{
 "cells": [
  {
   "cell_type": "markdown",
   "metadata": {},
   "source": [
    "# The Minion Game\n",
    "\n",
    "**Source**: HackerRank [https://www.hackerrank.com/challenges/the-minion-game/problem](https://www.hackerrank.com/challenges/the-minion-game/problem)\n",
    "\n",
    "Kevin and Stuart want to play the 'The Minion Game'.\n",
    "\n",
    "#### Game Rules\n",
    "Both players are given the same string, *S*.\n",
    "Both players have to make substrings using the letters of the string *S*.\n",
    "Stuart has to make words starting with *consonants*.\n",
    "Kevin has to make words starting with *vowels*.\n",
    "The game ends when both players have made all possible substrings.\n",
    "\n",
    "#### Scoring\n",
    "A player gets +1 point for each occurrence of the substring in the string *S*.\n",
    "\n",
    "#### Example\n",
    "*S* = 'BANANA'\n",
    "\n",
    "Kevin's vowel beginning word = *ANA*\n",
    "\n",
    "Here, *ANA* occurs twice in *BANANA*. Hence, Kevin will get 2 Points.\n",
    "\n",
    "Your task is to determine the winner of the game and their score.\n",
    "\n",
    "#### Function\n",
    "\n",
    "minion_game has the following parameters:\n",
    "* string *S*: the string to analyze \n",
    "\n",
    "Prints\n",
    "* string: the winner's name and score, separated by a space on one line, or Draw if there is no winner\n",
    "\n",
    "Input Format\n",
    "* A single line of input containing the string *S*.\n",
    "* **Note**: The string *S* will contain only uppercase letters: [*A-Z*].\n",
    "\n",
    "#### Constraints\n",
    "    0 < len(S) <= 10^6\n",
    "\n",
    "#### Sample Input\n",
    "    BANANA\n",
    "\n",
    "#### Sample Output\n",
    "    Stuart 12\n",
    "Note: Vowels are only defined as *AEIOU* In this problem. Y is not considered a vowel."
   ]
  },
  {
   "cell_type": "code",
   "execution_count": 36,
   "metadata": {},
   "outputs": [
    {
     "data": {
      "text/plain": [
       "10000"
      ]
     },
     "execution_count": 36,
     "metadata": {},
     "output_type": "execute_result"
    }
   ],
   "source": [
    "s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n",
    "\n",
    "len(s)"
   ]
  },
  {
   "cell_type": "code",
   "execution_count": 41,
   "metadata": {},
   "outputs": [],
   "source": [
    "from time import time\n",
    "\n",
    "# A function to print winners and scores\n",
    "def report_winner(kevin_score: int=0, stuart_score: int=0) -> None:\n",
    "    if stuart_score > kevin_score:\n",
    "        print(\"Stuart {:,} (winner)\".format(stuart_score))\n",
    "        print(\"Kevin {:,}\".format(kevin_score))\n",
    "    elif kevin_score > stuart_score:\n",
    "        print(\"Kevin {:,} (winner)\".format(kevin_score))\n",
    "        print(\"Stuart {:,}\".format(stuart_score))\n",
    "    else:\n",
    "        print(\"Draw\")\n",
    "        print(\"Score {:,}\".format(stuart_score))"
   ]
  },
  {
   "cell_type": "code",
   "execution_count": 38,
   "metadata": {},
   "outputs": [
    {
     "ename": "KeyboardInterrupt",
     "evalue": "",
     "output_type": "error",
     "traceback": [
      "\u001b[0;31m---------------------------------------------------------------------------\u001b[0m",
      "\u001b[0;31mKeyboardInterrupt\u001b[0m                         Traceback (most recent call last)",
      "Cell \u001b[0;32mIn[38], line 9\u001b[0m\n\u001b[1;32m      7\u001b[0m \u001b[38;5;28;01mfor\u001b[39;00m i \u001b[38;5;129;01min\u001b[39;00m \u001b[38;5;28mrange\u001b[39m(\u001b[38;5;28mlen\u001b[39m(s)):\n\u001b[1;32m      8\u001b[0m     \u001b[38;5;28;01mfor\u001b[39;00m j \u001b[38;5;129;01min\u001b[39;00m \u001b[38;5;28mrange\u001b[39m(\u001b[38;5;28mlen\u001b[39m(s)):\n\u001b[0;32m----> 9\u001b[0m         word_set\u001b[38;5;241m.\u001b[39madd(s[i:i\u001b[38;5;241m+\u001b[39mj\u001b[38;5;241m+\u001b[39m\u001b[38;5;241m1\u001b[39m])\n\u001b[1;32m     11\u001b[0m word_dict \u001b[38;5;241m=\u001b[39m \u001b[38;5;28mdict\u001b[39m(\u001b[38;5;28mzip\u001b[39m(word_set, [\u001b[38;5;241m0\u001b[39m]\u001b[38;5;241m*\u001b[39m\u001b[38;5;28mlen\u001b[39m(word_set)))\n\u001b[1;32m     13\u001b[0m \u001b[38;5;28;01mfor\u001b[39;00m word \u001b[38;5;129;01min\u001b[39;00m word_set:\n",
      "\u001b[0;31mKeyboardInterrupt\u001b[0m: "
     ]
    }
   ],
   "source": [
    "# Solution 1: Use a set() to find unique word possibilities. Use a dict() to store their counts.\n",
    "# Then add the counts to kevin_score and stuart_score to determine the winner. So simple.\n",
    "\n",
    "start_time = time()\n",
    "# s = 'BANANA'\n",
    "word_set = set()\n",
    "\n",
    "for i in range(len(s)):\n",
    "    for j in range(len(s)):\n",
    "        word_set.add(s[i:i+j+1])\n",
    "\n",
    "word_dict = dict(zip(word_set, [0]*len(word_set)))\n",
    "\n",
    "for word in word_set:\n",
    "    for i in range(len(s)):\n",
    "        word_dict[word] += word == s[i:i+len(word)]\n",
    "\n",
    "kevin_score = 0\n",
    "stuart_score = 0\n",
    "for word in word_dict.keys():\n",
    "    if word[0] in 'AEIOU':\n",
    "        kevin_score += word_dict[word]\n",
    "    else:\n",
    "        stuart_score += word_dict[word]\n",
    "\n",
    "print(time()-start_time, 'seconds')\n",
    "report_winner(kevin_score, stuart_score)\n",
    "\n",
    "# The logic is correct but the program crashes for large inputs. \n",
    "# Read the explanation below to know why. "
   ]
  },
  {
   "cell_type": "markdown",
   "metadata": {},
   "source": [
    "Let's break down the time complexity analysis for this code:\n",
    "\n",
    "1. First nested loop (creating word_set):\n",
    "```python\n",
    "for i in range(len(s)):\n",
    "    for j in range(len(s)):\n",
    "        word_set.add(s[i:i+j+1])\n",
    "```\n",
    "- This has O(n²) iterations where n is the length of string s\n",
    "- String slicing s[i:i+j+1] takes O(k) time where k is the length of the substring\n",
    "- In worst case, k can be n\n",
    "- Therefore, this section is O(n³)\n",
    "\n",
    "2. Creating word_dict:\n",
    "```python\n",
    "word_dict = dict(zip(word_set, [0]*len(word_set)))\n",
    "```\n",
    "- The word_set can have up to O(n²) unique substrings\n",
    "- This operation is O(n²)\n",
    "\n",
    "3. Counting occurrences:\n",
    "```python\n",
    "for word in word_set:  # O(n²) iterations\n",
    "    for i in range(len(s)):  # O(n) iterations\n",
    "        word_dict[word] += word == s[i:i+len(word)]  # O(n) for string comparison\n",
    "```\n",
    "- This section is O(n⁴)\n",
    "\n",
    "4. Final scoring loop:\n",
    "```python\n",
    "for word in word_dict.keys():\n",
    "    if word[0] in 'AEIOU':\n",
    "        kevin_score += word_dict[word]\n",
    "    else:\n",
    "        stuart_score += word_dict[word]\n",
    "```\n",
    "- This is O(n²) as it iterates through the word_dict once\n",
    "\n",
    "The overall time complexity is dominated by the third section, making the entire algorithm **O(n⁴)** where n is the length of the input string.\n",
    "\n",
    "Space complexity is O(n²) due to storing all possible substrings in the word_set and word_dict."
   ]
  },
  {
   "cell_type": "code",
   "execution_count": 42,
   "metadata": {},
   "outputs": [
    {
     "name": "stdout",
     "output_type": "stream",
     "text": [
      "3.6567249298095703 seconds\n",
      "Stuart 40,454,713 (winner)\n",
      "Kevin 9,550,287\n"
     ]
    }
   ],
   "source": [
    "# Solution 2: \n",
    "\n",
    "start_time = time()\n",
    "# s = 'BANANA'\n",
    "kevin_score = 0\n",
    "stuart_score = 0\n",
    "\n",
    "kevin_score = s.count('A') + s.count('E') + s.count('I') + s.count('O') + s.count('U')\n",
    "stuart_score = len(s) - kevin_score\n",
    "\n",
    "kevin_score += s[0] in 'AEIOU'\n",
    "stuart_score += s[0] not in 'AEIOU'\n",
    "\n",
    "for i in range(2, len(s)):\n",
    "    for j in range(len(s)-i+1):\n",
    "        if s[j] in 'AEIOU':\n",
    "            kevin_score += 1\n",
    "        else:\n",
    "            stuart_score += 1\n",
    "\n",
    "print(time()-start_time, 'seconds')\n",
    "report_winner(kevin_score, stuart_score)"
   ]
  },
  {
   "cell_type": "markdown",
   "metadata": {},
   "source": [
    "**Solution 2 brings down the Time Complexity to O(n²)**\n",
    "\n",
    "Let's break it down:\n",
    "1. Initial counting of vowels using `s.count()`: O(n)\n",
    "2. First length calculation and boolean checks: O(1)\n",
    "3. Main nested loop:\n",
    "\n",
    "    ```python\n",
    "    for i in range(2, len(s)):           # O(n) iterations\n",
    "        for j in range(len(s)-i+1):      # O(n) iterations\n",
    "            if s[j] in 'AEIOU':          # O(1) lookup\n",
    "                kevin_score += 1\n",
    "    ```\n",
    "\n",
    "This nested loop structure has O(n²) complexity.\n",
    "\n",
    "**Space Complexity: O(1)**\n",
    "- Only using a constant amount of additional space for:\n",
    "  - kevin_score (integer)\n",
    "  - stuart_score (integer)\n",
    "  - loop variables i and j\n",
    "\n",
    "While this is better than Solution 1's O(n⁴) time complexity and O(n²) space complexity, it can still be improved further. For a string of length 10,000, O(n²) operations could still be quite slow.\n",
    "\n",
    "A more optimal solution would use the fact that for any starting position, all possible substrings starting at that position contribute to the same player's score. This could reduce the time complexity to O(n)."
   ]
  },
  {
   "cell_type": "code",
   "execution_count": 43,
   "metadata": {},
   "outputs": [
    {
     "name": "stdout",
     "output_type": "stream",
     "text": [
      "0.0021109580993652344 seconds\n",
      "Stuart 40,454,713 (winner)\n",
      "Kevin 9,550,287\n"
     ]
    }
   ],
   "source": [
    "# Solution 3: \n",
    "\n",
    "start_time = time()\n",
    "# s = 'BANANA'\n",
    "kevin_score = 0\n",
    "stuart_score = 0\n",
    "\n",
    "for i in range(len(s)):\n",
    "    if s[i] in 'AEIOU':\n",
    "        kevin_score += len(s) - i\n",
    "    else:\n",
    "        stuart_score += len(s) - i\n",
    "\n",
    "print(time()-start_time, 'seconds')\n",
    "report_winner(kevin_score, stuart_score)"
   ]
  },
  {
   "cell_type": "markdown",
   "metadata": {},
   "source": [
    "Let's analyze significant improvements in Solution 3:\n",
    "\n",
    "**Time Complexity: O(n)**\n",
    "- Single loop through the string\n",
    "- For each character, we do:\n",
    "  - O(1) vowel check\n",
    "  - O(1) arithmetic operation\n",
    "  - No nested loops or substring operations\n",
    "\n",
    "**Space Complexity: O(1)**\n",
    "- Only uses two integer variables (kevin_score, stuart_score)\n",
    "- No additional data structures needed\n",
    "\n",
    "**Key Improvements:**\n",
    "1. **Clever Mathematical Insight**: \n",
    "   - Instead of generating all substrings, it recognizes that for any position i:\n",
    "   - Number of possible substrings starting at i = len(s) - i\n",
    "   - All these substrings contribute to the same player's score\n",
    "\n",
    "2. **Eliminated Unnecessary Operations:**\n",
    "   - No substring generation\n",
    "   - No string comparisons\n",
    "   - No temporary storage\n",
    "\n",
    "3. **Performance Impact:**\n",
    "   - Solution 1: O(n⁴) → Couldn't complete\n",
    "   - Solution 2: O(n²) → Slow but workable\n",
    "   - Solution 3: O(n) → Near-instant results\n",
    "\n",
    "For your input string of length 10,000:\n",
    "- Solution 1: Failed (would take hours/days)\n",
    "- Solution 2: Thousands of milliseconds\n",
    "- Solution 3: Few milliseconds\n",
    "\n",
    "This is a great example of how algorithmic optimization can turn an impossible problem into a trivial one!"
   ]
  },
  {
   "cell_type": "markdown",
   "metadata": {},
   "source": [
    "This example demonstrates several key programming principles of algorithmic optimization:\n",
    "\n",
    "1. **Brute Force isn't Always Best**\n",
    "   - Starting with the obvious solution (generating all substrings) led to O(n⁴)\n",
    "   - Sometimes we need to step back and look for patterns\n",
    "\n",
    "2. **Mathematical Insights Matter**\n",
    "   - The key breakthrough was realizing we don't need to actually generate the substrings\n",
    "   - We just need to count them using len(s) - i\n",
    "\n",
    "3. **Space-Time Tradeoffs**\n",
    "   - Solution 1 used extra space (word_set, word_dict) trying to optimize\n",
    "   - Final solution used no extra space and was fastest!\n",
    "\n",
    "4. **Importance of Big O Analysis**\n",
    "   - O(n⁴) → O(n²) → O(n)\n",
    "   - Each improvement made a massive difference with large inputs\n",
    "   - With n = 10,000, this is the difference between days and milliseconds\n",
    "\n",
    "This problem is a great one to keep in your toolkit as an example of how creative thinking can dramatically improve performance! 🚀"
   ]
  }
 ],
 "metadata": {
  "kernelspec": {
   "display_name": "scala",
   "language": "python",
   "name": "python3"
  },
  "language_info": {
   "codemirror_mode": {
    "name": "ipython",
    "version": 3
   },
   "file_extension": ".py",
   "mimetype": "text/x-python",
   "name": "python",
   "nbconvert_exporter": "python",
   "pygments_lexer": "ipython3",
   "version": "3.12.7"
  }
 },
 "nbformat": 4,
 "nbformat_minor": 2
}
