{
 "cells": [
  {
   "cell_type": "code",
   "execution_count": 1,
   "metadata": {},
   "outputs": [],
   "source": [
    "import numpy as np"
   ]
  },
  {
   "cell_type": "code",
   "execution_count": 6,
   "metadata": {},
   "outputs": [
    {
     "data": {
      "text/plain": [
       "array([[15, 10, 77, 62],\n",
       "       [ 9, 41, 48, 87],\n",
       "       [88, 52, 62, 97],\n",
       "       [34, 90, 43, 29],\n",
       "       [59, 11, 66, 68],\n",
       "       [69, 60, 82, 28],\n",
       "       [26, 20, 98, 93],\n",
       "       [14, 30, 92, 62]])"
      ]
     },
     "execution_count": 6,
     "metadata": {},
     "output_type": "execute_result"
    }
   ],
   "source": [
    "# Create 2D array with random integer elements\n",
    "arr = np.random.randint(100, size=32).reshape(8, 4)\n",
    "arr"
   ]
  },
  {
   "cell_type": "code",
   "execution_count": 7,
   "metadata": {},
   "outputs": [
    {
     "data": {
      "text/plain": [
       "array([[10, 15, 62, 77],\n",
       "       [ 9, 41, 48, 87],\n",
       "       [52, 62, 88, 97],\n",
       "       [29, 34, 43, 90],\n",
       "       [11, 59, 66, 68],\n",
       "       [28, 60, 69, 82],\n",
       "       [20, 26, 93, 98],\n",
       "       [14, 30, 62, 92]])"
      ]
     },
     "execution_count": 7,
     "metadata": {},
     "output_type": "execute_result"
    }
   ],
   "source": [
    "# sort\n",
    "np.sort(arr)"
   ]
  },
  {
   "cell_type": "code",
   "execution_count": 8,
   "metadata": {},
   "outputs": [
    {
     "data": {
      "text/plain": [
       "array([[77, 62, 15, 10],\n",
       "       [87, 48, 41,  9],\n",
       "       [97, 88, 62, 52],\n",
       "       [90, 43, 34, 29],\n",
       "       [68, 66, 59, 11],\n",
       "       [82, 69, 60, 28],\n",
       "       [98, 93, 26, 20],\n",
       "       [92, 62, 30, 14]])"
      ]
     },
     "execution_count": 8,
     "metadata": {},
     "output_type": "execute_result"
    }
   ],
   "source": [
    "# reverse sort\n",
    "np.sort(arr)[:, ::-1]"
   ]
  }
 ],
 "metadata": {
  "kernelspec": {
   "display_name": "scala",
   "language": "python",
   "name": "python3"
  },
  "language_info": {
   "codemirror_mode": {
    "name": "ipython",
    "version": 3
   },
   "file_extension": ".py",
   "mimetype": "text/x-python",
   "name": "python",
   "nbconvert_exporter": "python",
   "pygments_lexer": "ipython3",
   "version": "3.12.2"
  }
 },
 "nbformat": 4,
 "nbformat_minor": 2
}
