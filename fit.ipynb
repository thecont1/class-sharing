{
 "cells": [
  {
   "cell_type": "code",
   "execution_count": null,
   "id": "31d5a18a-119c-4ef7-8f3b-299e95279568",
   "metadata": {},
   "outputs": [],
   "source": []
  }
 ],
 "metadata": {
  "kernelspec": {
   "display_name": "",
   "name": ""
  },
  "language_info": {
   "name": ""
  }
 },
 "nbformat": 4,
 "nbformat_minor": 5
}
