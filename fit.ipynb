{
 "cells": [
  {
   "cell_type": "code",
   "execution_count": 4,
   "id": "31d5a18a-119c-4ef7-8f3b-299e95279568",
   "metadata": {},
   "outputs": [],
   "source": [
    "import numpy as np"
   ]
  },
  {
   "cell_type": "code",
   "execution_count": 6,
   "id": "3c50d0f5-fa6a-46de-b759-438360219201",
   "metadata": {},
   "outputs": [],
   "source": [
    "# just for reference\n",
    "labels = ['Date', 'Step Count', 'Mood', 'Calories Burnt', 'Hours of Sleep', 'Activity Status']\n",
    "\n",
    "data = np.loadtxt(\"fit.txt\", dtype='str')"
   ]
  },
  {
   "cell_type": "code",
   "execution_count": 7,
   "id": "2f48aa9a-2974-42a3-ad8b-3a599e348ba6",
   "metadata": {},
   "outputs": [
    {
     "data": {
      "text/plain": [
       "96"
      ]
     },
     "execution_count": 7,
     "metadata": {},
     "output_type": "execute_result"
    }
   ],
   "source": [
    "# Total number of records\n",
    "len(data)"
   ]
  },
  {
   "cell_type": "code",
   "execution_count": 8,
   "id": "fd682539-e26f-4a09-b45d-ef1f03f9bc50",
   "metadata": {},
   "outputs": [
    {
     "data": {
      "text/plain": [
       "25"
      ]
     },
     "execution_count": 8,
     "metadata": {},
     "output_type": "execute_result"
    }
   ],
   "source": [
    "# No. of 'Sad' and 'Inactive' members\n",
    "len(data[(data[:,2]=='Sad') & (data[:,5]=='Inactive')])"
   ]
  },
  {
   "cell_type": "code",
   "execution_count": 9,
   "id": "c35e25e2-8c09-4c12-aaa1-bc6f556bacfe",
   "metadata": {},
   "outputs": [
    {
     "data": {
      "text/plain": [
       "16"
      ]
     },
     "execution_count": 9,
     "metadata": {},
     "output_type": "execute_result"
    }
   ],
   "source": [
    "# No. of 'Happy' and 'Inactive' members\n",
    "len(data[(data[:,2]=='Happy') & (data[:,5]=='Inactive')])"
   ]
  },
  {
   "cell_type": "code",
   "execution_count": 10,
   "id": "74833a3a-62c8-4ea5-920a-604df0aa0b8f",
   "metadata": {},
   "outputs": [
    {
     "data": {
      "text/plain": [
       "4"
      ]
     },
     "execution_count": 10,
     "metadata": {},
     "output_type": "execute_result"
    }
   ],
   "source": [
    "# No. of 'Sad' and 'Active' members\n",
    "len(data[(data[:,2]=='Sad') & (data[:,5]=='Active')])"
   ]
  },
  {
   "cell_type": "code",
   "execution_count": 11,
   "id": "297013b4-5ff3-4805-846d-ffccbb1a4b0f",
   "metadata": {},
   "outputs": [
    {
     "data": {
      "text/plain": [
       "24"
      ]
     },
     "execution_count": 11,
     "metadata": {},
     "output_type": "execute_result"
    }
   ],
   "source": [
    "# No. of 'Happy' and 'Active' members\n",
    "len(data[(data[:,2]=='Happy') & (data[:,5]=='Active')])"
   ]
  },
  {
   "cell_type": "code",
   "execution_count": 15,
   "id": "5aa6ce7a-165c-47e4-94c5-4e82eee71d51",
   "metadata": {},
   "outputs": [
    {
     "data": {
      "text/plain": [
       "14"
      ]
     },
     "execution_count": 15,
     "metadata": {},
     "output_type": "execute_result"
    }
   ],
   "source": [
    "# No. of 'Neutral' members: 14 'Active'\n",
    "len(data[(data[:,2]=='Neutral') & (data[:,5]=='Active')])"
   ]
  },
  {
   "cell_type": "code",
   "execution_count": 16,
   "id": "033a2f77-8ac9-4520-8145-6496c5894bbc",
   "metadata": {},
   "outputs": [
    {
     "data": {
      "text/plain": [
       "13"
      ]
     },
     "execution_count": 16,
     "metadata": {},
     "output_type": "execute_result"
    }
   ],
   "source": [
    "# No. of 'Neutral' members: 14 'Active'\n",
    "len(data[(data[:,2]=='Neutral') & (data[:,5]=='Inactive')])"
   ]
  },
  {
   "cell_type": "code",
   "execution_count": 26,
   "id": "0229f5d3-2dfc-443b-943d-5dbee6c7b7ae",
   "metadata": {},
   "outputs": [],
   "source": [
    "#\n",
    "# From the above, it appears that there is a correlation between 'Mood' and 'Activity':\n",
    "# 25% 'Active' members report their mood as 'Happy'\n",
    "# 26% 'Inactive' members report their mood as 'Sad'\n",
    "# 28% members who report a 'Neutral' mood are equally distributed between 'Active' and 'Inactive'.\n",
    "#"
   ]
  },
  {
   "cell_type": "code",
   "execution_count": 19,
   "id": "2d343f9a-229e-408b-953c-59cecc9d0aec",
   "metadata": {},
   "outputs": [
    {
     "data": {
      "text/plain": [
       "2103.0689655172414"
      ]
     },
     "execution_count": 19,
     "metadata": {},
     "output_type": "execute_result"
    }
   ],
   "source": [
    "# Average Step Count of 'Sad' members = 2103\n",
    "np.average(data[(data[:,2]=='Sad')][:,1].astype('int'),0)"
   ]
  },
  {
   "cell_type": "code",
   "execution_count": 20,
   "id": "67534e5c-b1c9-4963-a814-3d1576427903",
   "metadata": {},
   "outputs": [
    {
     "data": {
      "text/plain": [
       "3153.777777777778"
      ]
     },
     "execution_count": 20,
     "metadata": {},
     "output_type": "execute_result"
    }
   ],
   "source": [
    "# Average Step Count of 'Neutral' members = 3154\n",
    "np.average(data[(data[:,2]=='Neutral')][:,1].astype('int'),0)"
   ]
  },
  {
   "cell_type": "code",
   "execution_count": 21,
   "id": "e13edc3c-63dc-437c-b278-a9700c68493b",
   "metadata": {},
   "outputs": [
    {
     "data": {
      "text/plain": [
       "3392.725"
      ]
     },
     "execution_count": 21,
     "metadata": {},
     "output_type": "execute_result"
    }
   ],
   "source": [
    "# Average Step Count of 'Happy' members = 3393\n",
    "np.average(data[(data[:,2]=='Happy')][:,1].astype('int'),0)"
   ]
  },
  {
   "cell_type": "code",
   "execution_count": null,
   "id": "e2f29f87-2539-4472-ae82-f4ad828dee70",
   "metadata": {},
   "outputs": [],
   "source": [
    "#\n",
    "# From the above, it appears that there is a correlation between physical activity ('Step Count') and 'Mood':\n",
    "# Members who report 'Neutral' to 'Happy' mood have over 50% more step count activity than those who report 'Sad'."
   ]
  }
 ],
 "metadata": {
  "kernelspec": {
   "display_name": "Python 3 (ipykernel)",
   "language": "python",
   "name": "python3"
  },
  "language_info": {
   "codemirror_mode": {
    "name": "ipython",
    "version": 3
   },
   "file_extension": ".py",
   "mimetype": "text/x-python",
   "name": "python",
   "nbconvert_exporter": "python",
   "pygments_lexer": "ipython3",
   "version": "3.8.18"
  }
 },
 "nbformat": 4,
 "nbformat_minor": 5
}
