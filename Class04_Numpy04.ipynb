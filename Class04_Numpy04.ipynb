{
 "cells": [
  {
   "cell_type": "code",
   "execution_count": 1,
   "metadata": {},
   "outputs": [],
   "source": [
    "import numpy as np"
   ]
  },
  {
   "cell_type": "code",
   "execution_count": 2,
   "metadata": {},
   "outputs": [
    {
     "data": {
      "text/plain": [
       "array([[26, 68, 33, 86],\n",
       "       [54, 20, 76,  0],\n",
       "       [46, 40,  0,  0],\n",
       "       [10, 13, 89, 46],\n",
       "       [56, 87, 40, 97],\n",
       "       [60, 43, 56, 81],\n",
       "       [57, 14, 12, 82],\n",
       "       [75, 41, 88,  9]])"
      ]
     },
     "execution_count": 2,
     "metadata": {},
     "output_type": "execute_result"
    }
   ],
   "source": [
    "# Create 2D array with random integer elements\n",
    "arr = np.random.randint(100, size=32).reshape(8, 4)\n",
    "arr"
   ]
  },
  {
   "cell_type": "code",
   "execution_count": 3,
   "metadata": {},
   "outputs": [
    {
     "data": {
      "text/plain": [
       "array([[26, 33, 68, 86],\n",
       "       [ 0, 20, 54, 76],\n",
       "       [ 0,  0, 40, 46],\n",
       "       [10, 13, 46, 89],\n",
       "       [40, 56, 87, 97],\n",
       "       [43, 56, 60, 81],\n",
       "       [12, 14, 57, 82],\n",
       "       [ 9, 41, 75, 88]])"
      ]
     },
     "execution_count": 3,
     "metadata": {},
     "output_type": "execute_result"
    }
   ],
   "source": [
    "np.sort(arr)"
   ]
  },
  {
   "cell_type": "code",
   "execution_count": 4,
   "metadata": {},
   "outputs": [
    {
     "data": {
      "text/plain": [
       "array([[86, 68, 33, 26],\n",
       "       [76, 54, 20,  0],\n",
       "       [46, 40,  0,  0],\n",
       "       [89, 46, 13, 10],\n",
       "       [97, 87, 56, 40],\n",
       "       [81, 60, 56, 43],\n",
       "       [82, 57, 14, 12],\n",
       "       [88, 75, 41,  9]])"
      ]
     },
     "execution_count": 4,
     "metadata": {},
     "output_type": "execute_result"
    }
   ],
   "source": [
    "np.sort(arr)[:, ::-1]"
   ]
  },
  {
   "cell_type": "code",
   "execution_count": 5,
   "metadata": {},
   "outputs": [
    {
     "data": {
      "text/plain": [
       "array([[1, 2, 3, 4, 5, 1, 2, 3, 4, 5],\n",
       "       [1, 2, 3, 4, 5, 1, 2, 3, 4, 5]])"
      ]
     },
     "execution_count": 5,
     "metadata": {},
     "output_type": "execute_result"
    }
   ],
   "source": [
    "somearr = np.array([1, 2, 3, 4, 5])\n",
    "\n",
    "h = np.tile(somearr, (2, 2))\n",
    "h"
   ]
  },
  {
   "cell_type": "code",
   "execution_count": 6,
   "metadata": {},
   "outputs": [
    {
     "data": {
      "text/plain": [
       "False"
      ]
     },
     "execution_count": 6,
     "metadata": {},
     "output_type": "execute_result"
    }
   ],
   "source": [
    "np.shares_memory(somearr, somearr+1)"
   ]
  },
  {
   "cell_type": "code",
   "execution_count": 7,
   "metadata": {},
   "outputs": [],
   "source": [
    "a = np.arange(1, 11)\n",
    "\n",
    "b = a[a%1 == 0]\n"
   ]
  },
  {
   "cell_type": "code",
   "execution_count": 8,
   "metadata": {},
   "outputs": [
    {
     "data": {
      "text/plain": [
       "True"
      ]
     },
     "execution_count": 8,
     "metadata": {},
     "output_type": "execute_result"
    }
   ],
   "source": [
    "np.shares_memory(a, a.view())"
   ]
  },
  {
   "cell_type": "code",
   "execution_count": 9,
   "metadata": {},
   "outputs": [
    {
     "data": {
      "text/plain": [
       "array([ 1,  2,  3,  4,  5,  6,  7,  8,  9, 10])"
      ]
     },
     "execution_count": 9,
     "metadata": {},
     "output_type": "execute_result"
    }
   ],
   "source": [
    "a"
   ]
  },
  {
   "cell_type": "code",
   "execution_count": 10,
   "metadata": {},
   "outputs": [
    {
     "data": {
      "text/plain": [
       "array([ 1,  2,  3,  4,  5,  6,  7,  8,  9, 10])"
      ]
     },
     "execution_count": 10,
     "metadata": {},
     "output_type": "execute_result"
    }
   ],
   "source": [
    "a.view()"
   ]
  },
  {
   "cell_type": "code",
   "execution_count": 11,
   "metadata": {},
   "outputs": [
    {
     "data": {
      "text/plain": [
       "False"
      ]
     },
     "execution_count": 11,
     "metadata": {},
     "output_type": "execute_result"
    }
   ],
   "source": [
    "np.shares_memory(a, a.copy())"
   ]
  },
  {
   "cell_type": "code",
   "execution_count": 12,
   "metadata": {},
   "outputs": [
    {
     "data": {
      "text/plain": [
       "False"
      ]
     },
     "execution_count": 12,
     "metadata": {},
     "output_type": "execute_result"
    }
   ],
   "source": [
    "import copy\n",
    "np.shares_memory(a.copy(), copy.deepcopy(a))"
   ]
  },
  {
   "cell_type": "code",
   "execution_count": 13,
   "metadata": {},
   "outputs": [
    {
     "data": {
      "text/plain": [
       "array([ 1,  2,  3,  4,  5,  6,  7,  8,  9, 10])"
      ]
     },
     "execution_count": 13,
     "metadata": {},
     "output_type": "execute_result"
    }
   ],
   "source": [
    "a"
   ]
  },
  {
   "cell_type": "code",
   "execution_count": 14,
   "metadata": {},
   "outputs": [],
   "source": [
    "arr0 = a.view()"
   ]
  },
  {
   "cell_type": "code",
   "execution_count": 15,
   "metadata": {},
   "outputs": [],
   "source": [
    "arr1 = a.copy()"
   ]
  },
  {
   "cell_type": "code",
   "execution_count": 16,
   "metadata": {},
   "outputs": [],
   "source": [
    "arr2 = copy.deepcopy(a)"
   ]
  },
  {
   "cell_type": "code",
   "execution_count": 17,
   "metadata": {},
   "outputs": [
    {
     "data": {
      "text/plain": [
       "True"
      ]
     },
     "execution_count": 17,
     "metadata": {},
     "output_type": "execute_result"
    }
   ],
   "source": [
    "np.shares_memory(a, arr0)"
   ]
  },
  {
   "cell_type": "code",
   "execution_count": 18,
   "metadata": {},
   "outputs": [
    {
     "data": {
      "text/plain": [
       "array([92, 54, 74, 32, 79, 39, 91, 86, 88, 70, 55, 64, 36, 62, 18, 52, 40,\n",
       "       13, 57, 69, 76, 39,  1, 37,  5, 70, 61, 59, 83, 30, 34, 79])"
      ]
     },
     "execution_count": 18,
     "metadata": {},
     "output_type": "execute_result"
    }
   ],
   "source": [
    "arr = np.random.randint(100, size=32)\n",
    "arr"
   ]
  },
  {
   "cell_type": "code",
   "execution_count": 19,
   "metadata": {},
   "outputs": [
    {
     "data": {
      "text/plain": [
       "[array([92, 54, 74, 32, 79, 39, 91, 86]),\n",
       " array([], dtype=int64),\n",
       " array([79, 39, 91, 86, 88, 70, 55, 64, 36, 62, 18, 52, 40, 13, 57, 69, 76,\n",
       "        39,  1, 37,  5, 70, 61, 59, 83, 30, 34]),\n",
       " array([79])]"
      ]
     },
     "execution_count": 19,
     "metadata": {},
     "output_type": "execute_result"
    }
   ],
   "source": [
    "np.split(arr, [8, 4, -1])"
   ]
  },
  {
   "cell_type": "code",
   "execution_count": 20,
   "metadata": {},
   "outputs": [
    {
     "data": {
      "text/plain": [
       "array([79, 39, 91, 86, 88, 70, 55, 64, 36, 62, 18, 52, 40, 13, 57, 69, 76,\n",
       "       39,  1, 37,  5, 70, 61, 59, 83, 30, 34])"
      ]
     },
     "execution_count": 20,
     "metadata": {},
     "output_type": "execute_result"
    }
   ],
   "source": [
    "np.split(arr, [8, 4, -1])[2]"
   ]
  },
  {
   "cell_type": "code",
   "execution_count": 21,
   "metadata": {},
   "outputs": [
    {
     "data": {
      "text/plain": [
       "array([[92, 54, 74, 32, 79, 39, 91, 86],\n",
       "       [88, 70, 55, 64, 36, 62, 18, 52],\n",
       "       [40, 13, 57, 69, 76, 39,  1, 37],\n",
       "       [ 5, 70, 61, 59, 83, 30, 34, 79]])"
      ]
     },
     "execution_count": 21,
     "metadata": {},
     "output_type": "execute_result"
    }
   ],
   "source": [
    "arr.reshape(4, 8)"
   ]
  },
  {
   "cell_type": "code",
   "execution_count": 24,
   "metadata": {},
   "outputs": [
    {
     "data": {
      "text/plain": [
       "[array([[92, 54, 74, 32],\n",
       "        [79, 39, 91, 86]]),\n",
       " array([[88, 70, 55, 64],\n",
       "        [36, 62, 18, 52]]),\n",
       " array([[40, 13, 57, 69],\n",
       "        [76, 39,  1, 37]]),\n",
       " array([[ 5, 70, 61, 59],\n",
       "        [83, 30, 34, 79]])]"
      ]
     },
     "execution_count": 24,
     "metadata": {},
     "output_type": "execute_result"
    }
   ],
   "source": [
    "np.vsplit(arr.reshape(8, 4), 4)"
   ]
  },
  {
   "cell_type": "code",
   "execution_count": 25,
   "metadata": {},
   "outputs": [
    {
     "data": {
      "text/plain": [
       "[array([[92, 54],\n",
       "        [88, 70],\n",
       "        [40, 13],\n",
       "        [ 5, 70]]),\n",
       " array([[74, 32],\n",
       "        [55, 64],\n",
       "        [57, 69],\n",
       "        [61, 59]]),\n",
       " array([[79, 39],\n",
       "        [36, 62],\n",
       "        [76, 39],\n",
       "        [83, 30]]),\n",
       " array([[91, 86],\n",
       "        [18, 52],\n",
       "        [ 1, 37],\n",
       "        [34, 79]])]"
      ]
     },
     "execution_count": 25,
     "metadata": {},
     "output_type": "execute_result"
    }
   ],
   "source": [
    "np.hsplit(arr.reshape(4, 8), 4)"
   ]
  },
  {
   "cell_type": "code",
   "execution_count": 28,
   "metadata": {},
   "outputs": [
    {
     "data": {
      "text/plain": [
       "array([[1, 2, 5],\n",
       "       [3, 4, 6]])"
      ]
     },
     "execution_count": 28,
     "metadata": {},
     "output_type": "execute_result"
    }
   ],
   "source": [
    "a = np.array([[1,2],[3,4]])\n",
    "b = np.array([[5],[6]])\n",
    "np.concatenate((a, b), axis=1)"
   ]
  },
  {
   "cell_type": "code",
   "execution_count": 29,
   "metadata": {},
   "outputs": [
    {
     "data": {
      "text/plain": [
       "array([[ 9, 14,  9,  0,  4,  1,  1, 17],\n",
       "       [ 5,  0,  4,  0, 19,  2, 18,  0],\n",
       "       [ 5,  9,  6, 13, 15,  8, 13, 17],\n",
       "       [ 1, 16, 17, 13,  2, 10, 17,  4],\n",
       "       [19,  2, 14,  1, 17,  4,  8,  5],\n",
       "       [13,  4,  6,  0,  5,  2,  7, 12],\n",
       "       [ 7,  3, 14, 10,  0,  8,  4, 10],\n",
       "       [15, 10,  3, 16, 11, 17,  2,  7]])"
      ]
     },
     "execution_count": 29,
     "metadata": {},
     "output_type": "execute_result"
    }
   ],
   "source": [
    "arr = np.random.randint(20, size=64).reshape(8, 8)\n",
    "arr"
   ]
  },
  {
   "cell_type": "code",
   "execution_count": 30,
   "metadata": {},
   "outputs": [
    {
     "data": {
      "text/plain": [
       "[array([[ 9, 14,  9],\n",
       "        [ 5,  0,  4],\n",
       "        [ 5,  9,  6],\n",
       "        [ 1, 16, 17],\n",
       "        [19,  2, 14],\n",
       "        [13,  4,  6],\n",
       "        [ 7,  3, 14],\n",
       "        [15, 10,  3]]),\n",
       " array([[ 0,  4],\n",
       "        [ 0, 19],\n",
       "        [13, 15],\n",
       "        [13,  2],\n",
       "        [ 1, 17],\n",
       "        [ 0,  5],\n",
       "        [10,  0],\n",
       "        [16, 11]]),\n",
       " array([[ 1],\n",
       "        [ 2],\n",
       "        [ 8],\n",
       "        [10],\n",
       "        [ 4],\n",
       "        [ 2],\n",
       "        [ 8],\n",
       "        [17]]),\n",
       " array([[ 1, 17],\n",
       "        [18,  0],\n",
       "        [13, 17],\n",
       "        [17,  4],\n",
       "        [ 8,  5],\n",
       "        [ 7, 12],\n",
       "        [ 4, 10],\n",
       "        [ 2,  7]])]"
      ]
     },
     "execution_count": 30,
     "metadata": {},
     "output_type": "execute_result"
    }
   ],
   "source": [
    "np.hsplit(arr, [3, 5, 6, ])"
   ]
  },
  {
   "cell_type": "code",
   "execution_count": 31,
   "metadata": {},
   "outputs": [
    {
     "data": {
      "text/plain": [
       "[array([[ 9, 14,  9,  0,  4,  1,  1, 17],\n",
       "        [ 5,  0,  4,  0, 19,  2, 18,  0],\n",
       "        [ 5,  9,  6, 13, 15,  8, 13, 17]]),\n",
       " array([[ 1, 16, 17, 13,  2, 10, 17,  4],\n",
       "        [19,  2, 14,  1, 17,  4,  8,  5]]),\n",
       " array([[13,  4,  6,  0,  5,  2,  7, 12]]),\n",
       " array([[ 7,  3, 14, 10,  0,  8,  4, 10],\n",
       "        [15, 10,  3, 16, 11, 17,  2,  7]])]"
      ]
     },
     "execution_count": 31,
     "metadata": {},
     "output_type": "execute_result"
    }
   ],
   "source": [
    "np.split(arr, [3, 5, 6, ])"
   ]
  },
  {
   "cell_type": "code",
   "execution_count": 32,
   "metadata": {},
   "outputs": [
    {
     "data": {
      "text/plain": [
       "[array([[ 9, 14,  9,  0,  4,  1,  1, 17],\n",
       "        [ 5,  0,  4,  0, 19,  2, 18,  0],\n",
       "        [ 5,  9,  6, 13, 15,  8, 13, 17]]),\n",
       " array([[ 1, 16, 17, 13,  2, 10, 17,  4],\n",
       "        [19,  2, 14,  1, 17,  4,  8,  5]]),\n",
       " array([[13,  4,  6,  0,  5,  2,  7, 12]]),\n",
       " array([[ 7,  3, 14, 10,  0,  8,  4, 10],\n",
       "        [15, 10,  3, 16, 11, 17,  2,  7]])]"
      ]
     },
     "execution_count": 32,
     "metadata": {},
     "output_type": "execute_result"
    }
   ],
   "source": [
    "np.split(arr, [3, 5, 6])"
   ]
  },
  {
   "cell_type": "code",
   "execution_count": 33,
   "metadata": {},
   "outputs": [
    {
     "data": {
      "text/plain": [
       "array([[0, 3, 1],\n",
       "       [3, 2, 9],\n",
       "       [8, 1, 0],\n",
       "       [8, 5, 0],\n",
       "       [8, 4, 2],\n",
       "       [0, 8, 9],\n",
       "       [3, 4, 4],\n",
       "       [0, 6, 1],\n",
       "       [9, 9, 8],\n",
       "       [9, 8, 6],\n",
       "       [2, 1, 2],\n",
       "       [8, 7, 1],\n",
       "       [1, 8, 3],\n",
       "       [9, 2, 6]])"
      ]
     },
     "execution_count": 33,
     "metadata": {},
     "output_type": "execute_result"
    }
   ],
   "source": [
    "img = np.random.randint(10, size=42).reshape(14, 3)\n",
    "img"
   ]
  },
  {
   "cell_type": "code",
   "execution_count": 34,
   "metadata": {},
   "outputs": [
    {
     "data": {
      "text/plain": [
       "[array([[0, 3, 1],\n",
       "        [3, 2, 9]]),\n",
       " array([[8, 1, 0],\n",
       "        [8, 5, 0]]),\n",
       " array([[8, 4, 2],\n",
       "        [0, 8, 9]]),\n",
       " array([[3, 4, 4],\n",
       "        [0, 6, 1]]),\n",
       " array([[9, 9, 8],\n",
       "        [9, 8, 6]]),\n",
       " array([[2, 1, 2],\n",
       "        [8, 7, 1]]),\n",
       " array([[1, 8, 3],\n",
       "        [9, 2, 6]])]"
      ]
     },
     "execution_count": 34,
     "metadata": {},
     "output_type": "execute_result"
    }
   ],
   "source": [
    "num_splits = 7\n",
    "\n",
    "splits = np.vsplit(img, num_splits)\n",
    "splits"
   ]
  },
  {
   "cell_type": "code",
   "execution_count": 35,
   "metadata": {},
   "outputs": [],
   "source": [
    "last_band = splits[-1]\n",
    "rest_of_bands = splits[:-1]"
   ]
  },
  {
   "cell_type": "code",
   "execution_count": 36,
   "metadata": {},
   "outputs": [
    {
     "data": {
      "text/plain": [
       "array([[0, 3, 1],\n",
       "       [3, 2, 9],\n",
       "       [8, 1, 0],\n",
       "       [8, 5, 0],\n",
       "       [8, 4, 2],\n",
       "       [0, 8, 9],\n",
       "       [3, 4, 4],\n",
       "       [0, 6, 1],\n",
       "       [9, 9, 8],\n",
       "       [9, 8, 6],\n",
       "       [2, 1, 2],\n",
       "       [8, 7, 1]])"
      ]
     },
     "execution_count": 36,
     "metadata": {},
     "output_type": "execute_result"
    }
   ],
   "source": [
    "np.vstack(rest_of_bands)"
   ]
  },
  {
   "cell_type": "code",
   "execution_count": 37,
   "metadata": {},
   "outputs": [
    {
     "data": {
      "text/plain": [
       "array([[1, 8, 3],\n",
       "       [9, 2, 6],\n",
       "       [0, 3, 1],\n",
       "       [3, 2, 9],\n",
       "       [8, 1, 0],\n",
       "       [8, 5, 0],\n",
       "       [8, 4, 2],\n",
       "       [0, 8, 9],\n",
       "       [3, 4, 4],\n",
       "       [0, 6, 1],\n",
       "       [9, 9, 8],\n",
       "       [9, 8, 6],\n",
       "       [2, 1, 2],\n",
       "       [8, 7, 1]])"
      ]
     },
     "execution_count": 37,
     "metadata": {},
     "output_type": "execute_result"
    }
   ],
   "source": [
    "np.vstack((splits[-1], np.vstack(splits[:-1])))"
   ]
  },
  {
   "cell_type": "code",
   "execution_count": 38,
   "metadata": {},
   "outputs": [
    {
     "data": {
      "text/plain": [
       "array([[1, 8, 3],\n",
       "       [9, 2, 6],\n",
       "       [0, 3, 1],\n",
       "       [3, 2, 9],\n",
       "       [8, 1, 0],\n",
       "       [8, 5, 0],\n",
       "       [8, 4, 2],\n",
       "       [0, 8, 9],\n",
       "       [3, 4, 4],\n",
       "       [0, 6, 1],\n",
       "       [9, 9, 8],\n",
       "       [9, 8, 6],\n",
       "       [2, 1, 2],\n",
       "       [8, 7, 1]])"
      ]
     },
     "execution_count": 38,
     "metadata": {},
     "output_type": "execute_result"
    }
   ],
   "source": [
    "np.vstack([splits[-1]] + splits[:-1])"
   ]
  }
 ],
 "metadata": {
  "kernelspec": {
   "display_name": "Python 3 (ipykernel)",
   "language": "python",
   "name": "python3"
  },
  "language_info": {
   "codemirror_mode": {
    "name": "ipython",
    "version": 3
   },
   "file_extension": ".py",
   "mimetype": "text/x-python",
   "name": "python",
   "nbconvert_exporter": "python",
   "pygments_lexer": "ipython3",
   "version": "3.12.7"
  }
 },
 "nbformat": 4,
 "nbformat_minor": 4
}
