{
 "cells": [
  {
   "cell_type": "markdown",
   "id": "9c5810f0",
   "metadata": {},
   "source": [
    "### Experiment\n",
    "\n",
    "Measuring the efficiency of vectorized Numpy operations over standard (non-vectorized) functions in Python."
   ]
  },
  {
   "cell_type": "code",
   "execution_count": 12,
   "id": "eb43e672-7b8e-4dfa-8330-fadbdb083003",
   "metadata": {},
   "outputs": [],
   "source": [
    "import numpy as np\n",
    "import random\n",
    "import time"
   ]
  },
  {
   "cell_type": "code",
   "execution_count": 13,
   "id": "6448abd0-5dbe-4553-b6b0-b9967f1c338c",
   "metadata": {},
   "outputs": [],
   "source": [
    "# Create two lists — one regular and one numpy – with one million random integers each\n",
    "python_list = [random.randint(0, 10000) for _ in range(0, 1000000)]\n",
    "numpy_array = np.array(python_list)"
   ]
  },
  {
   "cell_type": "code",
   "execution_count": 14,
   "id": "6a856be3-b6dd-4057-a57e-e0e23705f536",
   "metadata": {},
   "outputs": [],
   "source": [
    "func = lambda num: num+2 if num%2==0 else num-2\n",
    "vect = np.vectorize(func)"
   ]
  },
  {
   "cell_type": "code",
   "execution_count": 15,
   "id": "7d26949c-4f66-447c-914a-4c73bc8304a6",
   "metadata": {},
   "outputs": [
    {
     "name": "stdout",
     "output_type": "stream",
     "text": [
      "82.37 milliseconds\n"
     ]
    }
   ],
   "source": [
    "# Regular python list passed to non-vectorized function\n",
    "start_time = time.time()\n",
    "L = list(map(func, python_list))\n",
    "end_time = time.time()\n",
    "print(f\"{round((end_time - start_time)*1000, 2)} milliseconds\")"
   ]
  },
  {
   "cell_type": "code",
   "execution_count": 16,
   "id": "3a8444d2-7520-4b10-bc10-a0af50160009",
   "metadata": {},
   "outputs": [
    {
     "name": "stdout",
     "output_type": "stream",
     "text": [
      "154.53 milliseconds\n"
     ]
    }
   ],
   "source": [
    "# Regular python list passed to vectorized function\n",
    "start_time = time.time()\n",
    "vect(python_list)\n",
    "end_time = time.time()\n",
    "print(f\"{round((end_time - start_time)*1000, 2)} milliseconds\")"
   ]
  },
  {
   "cell_type": "code",
   "execution_count": 17,
   "id": "78ffb19a-db0d-438d-ba78-b773d696c229",
   "metadata": {},
   "outputs": [
    {
     "name": "stdout",
     "output_type": "stream",
     "text": [
      "123.63 milliseconds\n"
     ]
    }
   ],
   "source": [
    "# Numpy list passed to vectorized function\n",
    "start_time = time.time()\n",
    "vect(numpy_array)\n",
    "end_time = time.time()\n",
    "print(f\"{round((end_time - start_time)*1000, 2)} milliseconds\")"
   ]
  },
  {
   "cell_type": "code",
   "execution_count": 28,
   "id": "f09e6a5b",
   "metadata": {},
   "outputs": [
    {
     "name": "stdout",
     "output_type": "stream",
     "text": [
      "6.51 milliseconds\n"
     ]
    }
   ],
   "source": [
    "# Numpy list passed to a built-in vectorized operation\n",
    "start_time = time.time()\n",
    "L = np.where(numpy_array%2==0, numpy_array+2, numpy_array-2)\n",
    "end_time = time.time()\n",
    "print(f\"{round((end_time - start_time)*1000, 2)} milliseconds\")"
   ]
  },
  {
   "cell_type": "code",
   "execution_count": 29,
   "id": "7d7aa600",
   "metadata": {},
   "outputs": [
    {
     "name": "stdout",
     "output_type": "stream",
     "text": [
      "4.95 ms ± 83.6 μs per loop (mean ± std. dev. of 7 runs, 100 loops each)\n"
     ]
    }
   ],
   "source": [
    "# Measuring runtime using the %timeit magic command\n",
    "numpy_array2 = np.random.randint(0, 10000, 1000000)\n",
    "%timeit L = np.where(numpy_array2%2==0, numpy_array2+2, numpy_array2-2)"
   ]
  },
  {
   "cell_type": "markdown",
   "id": "5f7430a0",
   "metadata": {},
   "source": [
    "### Explanation\n",
    "\n",
    "The standard Python list is faster than the vectorized NumPy version in this case due to several reasons:\n",
    "\n",
    "1. **Overhead of `np.vectorize`**: The `np.vectorize` function is provided primarily for convenience, not for performance. The implementation is essentially a for loop that applies a Python function to each element of an array. It does not provide the same performance benefits as a true vectorized operation in NumPy.\n",
    "\n",
    "2. **Function Call Overhead**: Each call to the lambda function in `np.vectorize` incurs Python function call overhead, which can be significant when applied to large arrays.\n",
    "\n",
    "3. **Memory Layout**: NumPy arrays are optimized for operations that can be performed in bulk, using compiled code. When you use `np.vectorize`, you lose this advantage because it essentially reverts to element-wise operations in Python.\n",
    "\n",
    "4. **List Comprehension and [`map`](command:_github.copilot.openSymbolFromReferences?%5B%22%22%2C%5B%7B%22uri%22%3A%7B%22scheme%22%3A%22file%22%2C%22authority%22%3A%22%22%2C%22path%22%3A%22%2FUsers%2Fhome%2FDEV%2Fscaler%2Fpython%2Fsrc%2Ftemp.ipynb%22%2C%22query%22%3A%22%22%2C%22fragment%22%3A%22%22%7D%2C%22pos%22%3A%7B%22line%22%3A99%2C%22character%22%3A22%7D%7D%5D%2C%22a3f2c677-ac7b-41eb-bf41-52d91af25f1b%22%5D \"Go to definition\")**: The list comprehension and [`map`](command:_github.copilot.openSymbolFromReferences?%5B%22%22%2C%5B%7B%22uri%22%3A%7B%22scheme%22%3A%22file%22%2C%22authority%22%3A%22%22%2C%22path%22%3A%22%2FUsers%2Fhome%2FDEV%2Fscaler%2Fpython%2Fsrc%2Ftemp.ipynb%22%2C%22query%22%3A%22%22%2C%22fragment%22%3A%22%22%7D%2C%22pos%22%3A%7B%22line%22%3A99%2C%22character%22%3A22%7D%7D%5D%2C%22a3f2c677-ac7b-41eb-bf41-52d91af25f1b%22%5D \"Go to definition\") function in Python are highly optimized for performance. They can be faster than `np.vectorize` because they avoid the overhead associated with NumPy's array handling and function calls.\n",
    "\n",
    "### Conclusion\n",
    "- **`vect(numpy_array)`**: This uses `np.vectorize` on a NumPy array, which is slow due to the reasons mentioned above.\n",
    "- **`vect(python_list)`**: This uses `np.vectorize` on a Python list, which is even slower because it involves converting the list to a NumPy array internally.\n",
    "- **`list(map(func, python_list))`**: This uses the [`map`](command:_github.copilot.openSymbolFromReferences?%5B%22%22%2C%5B%7B%22uri%22%3A%7B%22scheme%22%3A%22file%22%2C%22authority%22%3A%22%22%2C%22path%22%3A%22%2FUsers%2Fhome%2FDEV%2Fscaler%2Fpython%2Fsrc%2Ftemp.ipynb%22%2C%22query%22%3A%22%22%2C%22fragment%22%3A%22%22%7D%2C%22pos%22%3A%7B%22line%22%3A99%2C%22character%22%3A22%7D%7D%5D%2C%22a3f2c677-ac7b-41eb-bf41-52d91af25f1b%22%5D \"Go to definition\") function with a Python list, which is faster because it avoids the overhead of NumPy and directly applies the function in a more optimized manner.\n",
    "\n",
    "For true performance benefits with NumPy, use built-in vectorized operations (e.g., `numpy.where`, `numpy.add`, etc.) instead of `np.vectorize`. If you need to apply a custom function element-wise, consider using list comprehensions or [`map`](command:_github.copilot.openSymbolFromReferences?%5B%22%22%2C%5B%7B%22uri%22%3A%7B%22scheme%22%3A%22file%22%2C%22authority%22%3A%22%22%2C%22path%22%3A%22%2FUsers%2Fhome%2FDEV%2Fscaler%2Fpython%2Fsrc%2Ftemp.ipynb%22%2C%22query%22%3A%22%22%2C%22fragment%22%3A%22%22%7D%2C%22pos%22%3A%7B%22line%22%3A99%2C%22character%22%3A22%7D%7D%5D%2C%22a3f2c677-ac7b-41eb-bf41-52d91af25f1b%22%5D \"Go to definition\") for better performance."
   ]
  }
 ],
 "metadata": {
  "kernelspec": {
   "display_name": "Python 3 (ipykernel)",
   "language": "python",
   "name": "python3"
  },
  "language_info": {
   "codemirror_mode": {
    "name": "ipython",
    "version": 3
   },
   "file_extension": ".py",
   "mimetype": "text/x-python",
   "name": "python",
   "nbconvert_exporter": "python",
   "pygments_lexer": "ipython3",
   "version": "3.12.7"
  }
 },
 "nbformat": 4,
 "nbformat_minor": 5
}
