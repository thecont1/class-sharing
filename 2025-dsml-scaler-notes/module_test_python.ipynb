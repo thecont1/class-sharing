{
 "cells": [
  {
   "cell_type": "code",
   "execution_count": 1,
   "metadata": {},
   "outputs": [],
   "source": [
    "import pandas as pd\n",
    "import numpy as np\n",
    "import matplotlib.pyplot as plt\n",
    "import seaborn as sns\n",
    "import markdown as md"
   ]
  },
  {
   "cell_type": "markdown",
   "metadata": {},
   "source": [
    "_____\n",
    "\n",
    "# Python"
   ]
  },
  {
   "cell_type": "markdown",
   "metadata": {},
   "source": [
    "#### 1A. Write code to find the maximum, average and minimum price for each category of the given data with columns \"Price”, \"Category_SubCategory”\n",
    "\n",
    "```markdown\n",
    "Price,Category_SubCategory\n",
    "234,Tops_croptop\n",
    "282,Tops_croptop\n",
    "222,Tops_tshirt\n",
    "382,Tops_tshirt\n",
    "2382,BottomWear_jeans\n",
    "2212,BottomWear_jeans\n",
    "1282,BottomWear_leggings\n",
    "212,BottomWear_leggings\n",
    "```"
   ]
  },
  {
   "cell_type": "code",
   "execution_count": 2,
   "metadata": {},
   "outputs": [
    {
     "data": {
      "text/html": [
       "<div>\n",
       "<style scoped>\n",
       "    .dataframe tbody tr th:only-of-type {\n",
       "        vertical-align: middle;\n",
       "    }\n",
       "\n",
       "    .dataframe tbody tr th {\n",
       "        vertical-align: top;\n",
       "    }\n",
       "\n",
       "    .dataframe thead th {\n",
       "        text-align: right;\n",
       "    }\n",
       "</style>\n",
       "<table border=\"1\" class=\"dataframe\">\n",
       "  <thead>\n",
       "    <tr style=\"text-align: right;\">\n",
       "      <th></th>\n",
       "      <th>Price</th>\n",
       "      <th>Category_SubCategory</th>\n",
       "    </tr>\n",
       "  </thead>\n",
       "  <tbody>\n",
       "    <tr>\n",
       "      <th>0</th>\n",
       "      <td>234</td>\n",
       "      <td>Tops_croptop</td>\n",
       "    </tr>\n",
       "    <tr>\n",
       "      <th>1</th>\n",
       "      <td>282</td>\n",
       "      <td>Tops_croptop</td>\n",
       "    </tr>\n",
       "    <tr>\n",
       "      <th>2</th>\n",
       "      <td>222</td>\n",
       "      <td>Tops_tshirt</td>\n",
       "    </tr>\n",
       "    <tr>\n",
       "      <th>3</th>\n",
       "      <td>382</td>\n",
       "      <td>Tops_tshirt</td>\n",
       "    </tr>\n",
       "    <tr>\n",
       "      <th>4</th>\n",
       "      <td>2382</td>\n",
       "      <td>BottomWear_jeans</td>\n",
       "    </tr>\n",
       "    <tr>\n",
       "      <th>5</th>\n",
       "      <td>2212</td>\n",
       "      <td>BottomWear_jeans</td>\n",
       "    </tr>\n",
       "    <tr>\n",
       "      <th>6</th>\n",
       "      <td>1282</td>\n",
       "      <td>BottomWear_leggings</td>\n",
       "    </tr>\n",
       "    <tr>\n",
       "      <th>7</th>\n",
       "      <td>212</td>\n",
       "      <td>BottomWear_leggings</td>\n",
       "    </tr>\n",
       "  </tbody>\n",
       "</table>\n",
       "</div>"
      ],
      "text/plain": [
       "   Price Category_SubCategory\n",
       "0    234         Tops_croptop\n",
       "1    282         Tops_croptop\n",
       "2    222          Tops_tshirt\n",
       "3    382          Tops_tshirt\n",
       "4   2382     BottomWear_jeans\n",
       "5   2212     BottomWear_jeans\n",
       "6   1282  BottomWear_leggings\n",
       "7    212  BottomWear_leggings"
      ]
     },
     "execution_count": 2,
     "metadata": {},
     "output_type": "execute_result"
    }
   ],
   "source": [
    "data = {\n",
    "    'Price': [234, 282, 222, 382, 2382, 2212, 1282, 212],\n",
    "    'Category_SubCategory': ['Tops_croptop', 'Tops_croptop', 'Tops_tshirt', 'Tops_tshirt', \n",
    "                           'BottomWear_jeans', 'BottomWear_jeans', 'BottomWear_leggings', 'BottomWear_leggings']\n",
    "}\n",
    "\n",
    "df = pd.DataFrame(data)\n",
    "df"
   ]
  },
  {
   "cell_type": "code",
   "execution_count": 3,
   "metadata": {},
   "outputs": [
    {
     "data": {
      "text/plain": [
       "Category_SubCategory\n",
       "BottomWear_jeans       2382\n",
       "BottomWear_leggings    1282\n",
       "Tops_croptop            282\n",
       "Tops_tshirt             382\n",
       "Name: Price, dtype: int64"
      ]
     },
     "metadata": {},
     "output_type": "display_data"
    },
    {
     "data": {
      "text/plain": [
       "Category_SubCategory\n",
       "BottomWear_jeans       2212\n",
       "BottomWear_leggings     212\n",
       "Tops_croptop            234\n",
       "Tops_tshirt             222\n",
       "Name: Price, dtype: int64"
      ]
     },
     "metadata": {},
     "output_type": "display_data"
    },
    {
     "data": {
      "text/plain": [
       "Category_SubCategory\n",
       "BottomWear_jeans       2297.0\n",
       "BottomWear_leggings     747.0\n",
       "Tops_croptop            258.0\n",
       "Tops_tshirt             302.0\n",
       "Name: Price, dtype: float64"
      ]
     },
     "metadata": {},
     "output_type": "display_data"
    }
   ],
   "source": [
    "df_category = df.groupby('Category_SubCategory')['Price']\n",
    "\n",
    "display(df_category.max())\n",
    "display(df_category.min())\n",
    "display(df_category.mean())"
   ]
  },
  {
   "cell_type": "markdown",
   "metadata": {},
   "source": [
    "#### 1B. Print the minimum value of 'Tops' and 'BottomWear'"
   ]
  },
  {
   "cell_type": "code",
   "execution_count": 4,
   "metadata": {},
   "outputs": [
    {
     "data": {
      "text/html": [
       "<div>\n",
       "<style scoped>\n",
       "    .dataframe tbody tr th:only-of-type {\n",
       "        vertical-align: middle;\n",
       "    }\n",
       "\n",
       "    .dataframe tbody tr th {\n",
       "        vertical-align: top;\n",
       "    }\n",
       "\n",
       "    .dataframe thead th {\n",
       "        text-align: right;\n",
       "    }\n",
       "</style>\n",
       "<table border=\"1\" class=\"dataframe\">\n",
       "  <thead>\n",
       "    <tr style=\"text-align: right;\">\n",
       "      <th></th>\n",
       "      <th>Price</th>\n",
       "      <th>Category</th>\n",
       "      <th>SubCategory</th>\n",
       "    </tr>\n",
       "  </thead>\n",
       "  <tbody>\n",
       "    <tr>\n",
       "      <th>0</th>\n",
       "      <td>234</td>\n",
       "      <td>Tops</td>\n",
       "      <td>croptop</td>\n",
       "    </tr>\n",
       "    <tr>\n",
       "      <th>1</th>\n",
       "      <td>282</td>\n",
       "      <td>Tops</td>\n",
       "      <td>croptop</td>\n",
       "    </tr>\n",
       "    <tr>\n",
       "      <th>2</th>\n",
       "      <td>222</td>\n",
       "      <td>Tops</td>\n",
       "      <td>tshirt</td>\n",
       "    </tr>\n",
       "    <tr>\n",
       "      <th>3</th>\n",
       "      <td>382</td>\n",
       "      <td>Tops</td>\n",
       "      <td>tshirt</td>\n",
       "    </tr>\n",
       "    <tr>\n",
       "      <th>4</th>\n",
       "      <td>2382</td>\n",
       "      <td>BottomWear</td>\n",
       "      <td>jeans</td>\n",
       "    </tr>\n",
       "    <tr>\n",
       "      <th>5</th>\n",
       "      <td>2212</td>\n",
       "      <td>BottomWear</td>\n",
       "      <td>jeans</td>\n",
       "    </tr>\n",
       "    <tr>\n",
       "      <th>6</th>\n",
       "      <td>1282</td>\n",
       "      <td>BottomWear</td>\n",
       "      <td>leggings</td>\n",
       "    </tr>\n",
       "    <tr>\n",
       "      <th>7</th>\n",
       "      <td>212</td>\n",
       "      <td>BottomWear</td>\n",
       "      <td>leggings</td>\n",
       "    </tr>\n",
       "  </tbody>\n",
       "</table>\n",
       "</div>"
      ],
      "text/plain": [
       "   Price    Category SubCategory\n",
       "0    234        Tops     croptop\n",
       "1    282        Tops     croptop\n",
       "2    222        Tops      tshirt\n",
       "3    382        Tops      tshirt\n",
       "4   2382  BottomWear       jeans\n",
       "5   2212  BottomWear       jeans\n",
       "6   1282  BottomWear    leggings\n",
       "7    212  BottomWear    leggings"
      ]
     },
     "execution_count": 4,
     "metadata": {},
     "output_type": "execute_result"
    }
   ],
   "source": [
    "df['Category'] = df['Category_SubCategory'].str.split('_').str[0]\n",
    "df['SubCategory'] = df['Category_SubCategory'].str.split('_').str[1]\n",
    "df.drop(columns=['Category_SubCategory'], inplace=True)\n",
    "df"
   ]
  },
  {
   "cell_type": "code",
   "execution_count": 5,
   "metadata": {},
   "outputs": [
    {
     "data": {
      "text/plain": [
       "Category\n",
       "BottomWear    212\n",
       "Tops          222\n",
       "Name: Price, dtype: int64"
      ]
     },
     "execution_count": 5,
     "metadata": {},
     "output_type": "execute_result"
    }
   ],
   "source": [
    "df.groupby('Category')['Price'].min()"
   ]
  },
  {
   "cell_type": "markdown",
   "metadata": {},
   "source": [
    "#### 2. Run a Python program to do run length encoding example \"abbbcdd --> a1b3c1d2\""
   ]
  },
  {
   "cell_type": "code",
   "execution_count": 6,
   "metadata": {},
   "outputs": [
    {
     "data": {
      "text/plain": [
       "'b3c1d2x5-1x4d1'"
      ]
     },
     "execution_count": 6,
     "metadata": {},
     "output_type": "execute_result"
    }
   ],
   "source": [
    "inp = \"bbbcddxxxxx-xxxxd\"\n",
    "count = 1\n",
    "outp = inp[0]\n",
    "\n",
    "for letter in inp[1:]:\n",
    "    if outp[-1] == letter:\n",
    "        count += 1\n",
    "    else:\n",
    "        outp += str(count) + letter\n",
    "        count = 1\n",
    "outp += str(count)\n",
    "\n",
    "outp"
   ]
  },
  {
   "cell_type": "markdown",
   "metadata": {},
   "source": [
    "#### 3. Check if a string is palindrome or not"
   ]
  },
  {
   "cell_type": "code",
   "execution_count": 7,
   "metadata": {},
   "outputs": [
    {
     "name": "stdout",
     "output_type": "stream",
     "text": [
      "\"100040001\"\n",
      "is not a Palindrome\n"
     ]
    }
   ],
   "source": [
    "s = \"Malayalam\"\n",
    "s = \"Madam I'm Adam\"\n",
    "s = \"Gateway to Paradise\"\n",
    "s = \"100040001\"\n",
    "\n",
    "print(f'\"{s}\"')\n",
    "s = ''.join([_.lower() if _.isalpha() else '' for _ in s ])\n",
    "\n",
    "if s == s[-1::-1] and len(s) > 1:\n",
    "    print(\"is a Palindrome\")\n",
    "else:\n",
    "    print(\"is not a Palindrome\")"
   ]
  },
  {
   "cell_type": "markdown",
   "metadata": {},
   "source": [
    "#### 4. Fix the error in the given CSV\n",
    "\n",
    "Given a csv file with columns `time`, `category`, `price`\n",
    "\n",
    "```markdown\n",
    "time  \t\tcategory \t\tprice\n",
    "12.00 \t\t1-2-3 \t\t\t23\n",
    "12.40 \t\t2-3 \t\t\t25\n",
    "12.45 \t\t2                       29\n",
    "13.25 \t\t2-5-6 \t\t\t29\n",
    "```\n",
    "\n",
    "Can you fix this formatting error to \n",
    "```markdown\n",
    "time  \t\tcategory \t\tprice\n",
    "12.00 \t\t1 \t\t\t23\n",
    "12.00 \t\t2 \t\t\t23\n",
    "12.00 \t\t3 \t\t\t23\n",
    "12.40 \t\t2 \t\t\t25\n",
    "12.40 \t\t3 \t\t\t25\n",
    "12.45 \t\t2 \t\t\t29\n",
    "13.25 \t\t2 \t\t\t29\n",
    "13.25 \t\t5 \t\t\t29\n",
    "13.25 \t\t6 \t\t\t29\n",
    "```"
   ]
  },
  {
   "cell_type": "code",
   "execution_count": 8,
   "metadata": {},
   "outputs": [
    {
     "data": {
      "text/html": [
       "<div>\n",
       "<style scoped>\n",
       "    .dataframe tbody tr th:only-of-type {\n",
       "        vertical-align: middle;\n",
       "    }\n",
       "\n",
       "    .dataframe tbody tr th {\n",
       "        vertical-align: top;\n",
       "    }\n",
       "\n",
       "    .dataframe thead th {\n",
       "        text-align: right;\n",
       "    }\n",
       "</style>\n",
       "<table border=\"1\" class=\"dataframe\">\n",
       "  <thead>\n",
       "    <tr style=\"text-align: right;\">\n",
       "      <th></th>\n",
       "      <th>time</th>\n",
       "      <th>category</th>\n",
       "      <th>price</th>\n",
       "    </tr>\n",
       "  </thead>\n",
       "  <tbody>\n",
       "    <tr>\n",
       "      <th>0</th>\n",
       "      <td>12.00</td>\n",
       "      <td>1-2-3</td>\n",
       "      <td>23</td>\n",
       "    </tr>\n",
       "    <tr>\n",
       "      <th>1</th>\n",
       "      <td>12.40</td>\n",
       "      <td>2-3</td>\n",
       "      <td>25</td>\n",
       "    </tr>\n",
       "    <tr>\n",
       "      <th>2</th>\n",
       "      <td>12.45</td>\n",
       "      <td>2</td>\n",
       "      <td>29</td>\n",
       "    </tr>\n",
       "    <tr>\n",
       "      <th>3</th>\n",
       "      <td>13.25</td>\n",
       "      <td>2-5-6</td>\n",
       "      <td>29</td>\n",
       "    </tr>\n",
       "  </tbody>\n",
       "</table>\n",
       "</div>"
      ],
      "text/plain": [
       "    time category  price\n",
       "0  12.00    1-2-3     23\n",
       "1  12.40      2-3     25\n",
       "2  12.45        2     29\n",
       "3  13.25    2-5-6     29"
      ]
     },
     "execution_count": 8,
     "metadata": {},
     "output_type": "execute_result"
    }
   ],
   "source": [
    "data = {\n",
    "    'time': [12.00, 12.40, 12.45, 13.25],\n",
    "    'category': ['1-2-3', '2-3', '2', '2-5-6'],\n",
    "    'price': [23, 25, 29, 29]\n",
    "}\n",
    "\n",
    "df = pd.DataFrame(data)\n",
    "df"
   ]
  },
  {
   "cell_type": "code",
   "execution_count": 9,
   "metadata": {},
   "outputs": [
    {
     "data": {
      "text/html": [
       "<div>\n",
       "<style scoped>\n",
       "    .dataframe tbody tr th:only-of-type {\n",
       "        vertical-align: middle;\n",
       "    }\n",
       "\n",
       "    .dataframe tbody tr th {\n",
       "        vertical-align: top;\n",
       "    }\n",
       "\n",
       "    .dataframe thead th {\n",
       "        text-align: right;\n",
       "    }\n",
       "</style>\n",
       "<table border=\"1\" class=\"dataframe\">\n",
       "  <thead>\n",
       "    <tr style=\"text-align: right;\">\n",
       "      <th></th>\n",
       "      <th>time</th>\n",
       "      <th>category</th>\n",
       "      <th>price</th>\n",
       "    </tr>\n",
       "  </thead>\n",
       "  <tbody>\n",
       "    <tr>\n",
       "      <th>0</th>\n",
       "      <td>12.00</td>\n",
       "      <td>1</td>\n",
       "      <td>23</td>\n",
       "    </tr>\n",
       "    <tr>\n",
       "      <th>1</th>\n",
       "      <td>12.00</td>\n",
       "      <td>2</td>\n",
       "      <td>23</td>\n",
       "    </tr>\n",
       "    <tr>\n",
       "      <th>2</th>\n",
       "      <td>12.00</td>\n",
       "      <td>3</td>\n",
       "      <td>23</td>\n",
       "    </tr>\n",
       "    <tr>\n",
       "      <th>3</th>\n",
       "      <td>12.40</td>\n",
       "      <td>2</td>\n",
       "      <td>25</td>\n",
       "    </tr>\n",
       "    <tr>\n",
       "      <th>4</th>\n",
       "      <td>12.40</td>\n",
       "      <td>3</td>\n",
       "      <td>25</td>\n",
       "    </tr>\n",
       "    <tr>\n",
       "      <th>5</th>\n",
       "      <td>12.45</td>\n",
       "      <td>2</td>\n",
       "      <td>29</td>\n",
       "    </tr>\n",
       "    <tr>\n",
       "      <th>6</th>\n",
       "      <td>13.25</td>\n",
       "      <td>2</td>\n",
       "      <td>29</td>\n",
       "    </tr>\n",
       "    <tr>\n",
       "      <th>7</th>\n",
       "      <td>13.25</td>\n",
       "      <td>5</td>\n",
       "      <td>29</td>\n",
       "    </tr>\n",
       "    <tr>\n",
       "      <th>8</th>\n",
       "      <td>13.25</td>\n",
       "      <td>6</td>\n",
       "      <td>29</td>\n",
       "    </tr>\n",
       "  </tbody>\n",
       "</table>\n",
       "</div>"
      ],
      "text/plain": [
       "    time category  price\n",
       "0  12.00        1     23\n",
       "1  12.00        2     23\n",
       "2  12.00        3     23\n",
       "3  12.40        2     25\n",
       "4  12.40        3     25\n",
       "5  12.45        2     29\n",
       "6  13.25        2     29\n",
       "7  13.25        5     29\n",
       "8  13.25        6     29"
      ]
     },
     "execution_count": 9,
     "metadata": {},
     "output_type": "execute_result"
    }
   ],
   "source": [
    "df['category'] = df['category'].str.split('-')\n",
    "df = df.explode('category')\n",
    "df.reset_index(drop=True, inplace=True)\n",
    "df"
   ]
  },
  {
   "cell_type": "markdown",
   "metadata": {},
   "source": [
    "#### 5. Write a Python program to search for an element in a 2D matrix, given that the matrix elements are arranged in sorted order in both row-wise and column-wise\n",
    "\n",
    "```markdown\n",
    "\t[1 4 7 10 15]\n",
    "\t[3 5 8 15 19]\n",
    "\t[6 9 11 16 20]\n",
    "\t[12 19 21 26 30]\n",
    "```\n",
    "\n",
    "Note: Assume each element is unique in the matrix\n"
   ]
  },
  {
   "cell_type": "code",
   "execution_count": 10,
   "metadata": {},
   "outputs": [
    {
     "name": "stdout",
     "output_type": "stream",
     "text": [
      "16 is at (3, 3)\n"
     ]
    }
   ],
   "source": [
    "m = [[1,4,7,10,15],[3,5,8,15,19],[6,9,11,16,20],[12,19,21,26,30]]\n",
    "\n",
    "to_search_for = 16\n",
    "\n",
    "i = 0; j = 0\n",
    "\n",
    "for j in range(len(m[0])):\n",
    "    if to_search_for <= m[i][j]:\n",
    "        break\n",
    "\n",
    "j -= 1\n",
    "\n",
    "for i in range(len(m)):\n",
    "    if to_search_for <= m[i][j]:\n",
    "        break\n",
    "\n",
    "i += 1\n",
    "\n",
    "print(f\"{to_search_for} is at ({i}, {j})\")"
   ]
  },
  {
   "cell_type": "markdown",
   "metadata": {},
   "source": [
    "#### 6. Given a csv file with columns `order_id`, `price` and `user_id`, compute the sum of prices of users whose id is an odd number."
   ]
  },
  {
   "cell_type": "code",
   "execution_count": 11,
   "metadata": {},
   "outputs": [
    {
     "data": {
      "text/html": [
       "<div>\n",
       "<style scoped>\n",
       "    .dataframe tbody tr th:only-of-type {\n",
       "        vertical-align: middle;\n",
       "    }\n",
       "\n",
       "    .dataframe tbody tr th {\n",
       "        vertical-align: top;\n",
       "    }\n",
       "\n",
       "    .dataframe thead th {\n",
       "        text-align: right;\n",
       "    }\n",
       "</style>\n",
       "<table border=\"1\" class=\"dataframe\">\n",
       "  <thead>\n",
       "    <tr style=\"text-align: right;\">\n",
       "      <th></th>\n",
       "      <th>order_id</th>\n",
       "      <th>price</th>\n",
       "      <th>user_id</th>\n",
       "    </tr>\n",
       "  </thead>\n",
       "  <tbody>\n",
       "    <tr>\n",
       "      <th>0</th>\n",
       "      <td>1</td>\n",
       "      <td>100</td>\n",
       "      <td>11</td>\n",
       "    </tr>\n",
       "    <tr>\n",
       "      <th>1</th>\n",
       "      <td>2</td>\n",
       "      <td>200</td>\n",
       "      <td>19</td>\n",
       "    </tr>\n",
       "    <tr>\n",
       "      <th>2</th>\n",
       "      <td>3</td>\n",
       "      <td>300</td>\n",
       "      <td>32</td>\n",
       "    </tr>\n",
       "    <tr>\n",
       "      <th>3</th>\n",
       "      <td>4</td>\n",
       "      <td>400</td>\n",
       "      <td>47</td>\n",
       "    </tr>\n",
       "    <tr>\n",
       "      <th>4</th>\n",
       "      <td>5</td>\n",
       "      <td>500</td>\n",
       "      <td>50</td>\n",
       "    </tr>\n",
       "    <tr>\n",
       "      <th>5</th>\n",
       "      <td>6</td>\n",
       "      <td>600</td>\n",
       "      <td>60</td>\n",
       "    </tr>\n",
       "    <tr>\n",
       "      <th>6</th>\n",
       "      <td>7</td>\n",
       "      <td>700</td>\n",
       "      <td>77</td>\n",
       "    </tr>\n",
       "    <tr>\n",
       "      <th>7</th>\n",
       "      <td>8</td>\n",
       "      <td>800</td>\n",
       "      <td>81</td>\n",
       "    </tr>\n",
       "    <tr>\n",
       "      <th>8</th>\n",
       "      <td>9</td>\n",
       "      <td>900</td>\n",
       "      <td>99</td>\n",
       "    </tr>\n",
       "  </tbody>\n",
       "</table>\n",
       "</div>"
      ],
      "text/plain": [
       "   order_id  price  user_id\n",
       "0         1    100       11\n",
       "1         2    200       19\n",
       "2         3    300       32\n",
       "3         4    400       47\n",
       "4         5    500       50\n",
       "5         6    600       60\n",
       "6         7    700       77\n",
       "7         8    800       81\n",
       "8         9    900       99"
      ]
     },
     "execution_count": 11,
     "metadata": {},
     "output_type": "execute_result"
    }
   ],
   "source": [
    "data = [[1, 100, 11], [2, 200, 19], [3, 300, 32], [4, 400, 47], [5, 500, 50], [6, 600, 60], [7, 700, 77], [8, 800, 81], [9, 900, 99]]\n",
    "\n",
    "df = pd.DataFrame(data, columns=['order_id', 'price', 'user_id'])\n",
    "df"
   ]
  },
  {
   "cell_type": "code",
   "execution_count": 12,
   "metadata": {},
   "outputs": [
    {
     "data": {
      "text/plain": [
       "3100"
      ]
     },
     "execution_count": 12,
     "metadata": {},
     "output_type": "execute_result"
    }
   ],
   "source": [
    "df[df['user_id'] % 2 == 1].loc[:, 'price'].sum()"
   ]
  },
  {
   "cell_type": "markdown",
   "metadata": {},
   "source": [
    "#### 7. Given a list of N numbers, can you sample 10 elements from them, while sampling an element at an even index with 0.4 and an element at an odd index with a probability of 0.6\n"
   ]
  },
  {
   "cell_type": "markdown",
   "metadata": {},
   "source": [
    "#### 8. Plot a histogram of average ages of different genders across multiple cities. \n",
    "\n",
    "```markdown\n",
    "\tAge\tGender\tCity\n",
    "\t45\tF\tHyd\n",
    "\t25\tM\tHyd\n",
    "\t42\tM\tBlr\n",
    "\t12\tF\tBlr\n",
    "\t21\tF\tKolkata\n",
    "\t22\tM\tKolkata\n",
    "```"
   ]
  },
  {
   "cell_type": "code",
   "execution_count": 13,
   "metadata": {},
   "outputs": [
    {
     "data": {
      "text/html": [
       "<div>\n",
       "<style scoped>\n",
       "    .dataframe tbody tr th:only-of-type {\n",
       "        vertical-align: middle;\n",
       "    }\n",
       "\n",
       "    .dataframe tbody tr th {\n",
       "        vertical-align: top;\n",
       "    }\n",
       "\n",
       "    .dataframe thead th {\n",
       "        text-align: right;\n",
       "    }\n",
       "</style>\n",
       "<table border=\"1\" class=\"dataframe\">\n",
       "  <thead>\n",
       "    <tr style=\"text-align: right;\">\n",
       "      <th></th>\n",
       "      <th>Age</th>\n",
       "      <th>Gender</th>\n",
       "      <th>City</th>\n",
       "    </tr>\n",
       "  </thead>\n",
       "  <tbody>\n",
       "    <tr>\n",
       "      <th>0</th>\n",
       "      <td>42</td>\n",
       "      <td>M</td>\n",
       "      <td>Bangalore</td>\n",
       "    </tr>\n",
       "    <tr>\n",
       "      <th>1</th>\n",
       "      <td>12</td>\n",
       "      <td>F</td>\n",
       "      <td>Bangalore</td>\n",
       "    </tr>\n",
       "    <tr>\n",
       "      <th>2</th>\n",
       "      <td>43</td>\n",
       "      <td>F</td>\n",
       "      <td>Chennai</td>\n",
       "    </tr>\n",
       "    <tr>\n",
       "      <th>3</th>\n",
       "      <td>27</td>\n",
       "      <td>F</td>\n",
       "      <td>Chennai</td>\n",
       "    </tr>\n",
       "    <tr>\n",
       "      <th>4</th>\n",
       "      <td>45</td>\n",
       "      <td>F</td>\n",
       "      <td>Hyderabad</td>\n",
       "    </tr>\n",
       "    <tr>\n",
       "      <th>5</th>\n",
       "      <td>25</td>\n",
       "      <td>M</td>\n",
       "      <td>Hyderabad</td>\n",
       "    </tr>\n",
       "    <tr>\n",
       "      <th>6</th>\n",
       "      <td>21</td>\n",
       "      <td>F</td>\n",
       "      <td>Kolkata</td>\n",
       "    </tr>\n",
       "    <tr>\n",
       "      <th>7</th>\n",
       "      <td>22</td>\n",
       "      <td>M</td>\n",
       "      <td>Kolkata</td>\n",
       "    </tr>\n",
       "  </tbody>\n",
       "</table>\n",
       "</div>"
      ],
      "text/plain": [
       "   Age Gender       City\n",
       "0   42      M  Bangalore\n",
       "1   12      F  Bangalore\n",
       "2   43      F    Chennai\n",
       "3   27      F    Chennai\n",
       "4   45      F  Hyderabad\n",
       "5   25      M  Hyderabad\n",
       "6   21      F    Kolkata\n",
       "7   22      M    Kolkata"
      ]
     },
     "execution_count": 13,
     "metadata": {},
     "output_type": "execute_result"
    }
   ],
   "source": [
    "data = {\n",
    "    'Age': [45, 25, 42, 12, 21, 22, 43, 27],\n",
    "    'Gender': ['F', 'M', 'M', 'F', 'F', 'M', 'F', 'F'],\n",
    "    'City': ['Hyderabad', 'Hyderabad', 'Bangalore', 'Bangalore', 'Kolkata', 'Kolkata', 'Chennai', 'Chennai']\n",
    "}\n",
    "df = pd.DataFrame(data)\n",
    "df = df.sort_values('City').reset_index(drop=True)\n",
    "df"
   ]
  },
  {
   "cell_type": "code",
   "execution_count": 14,
   "metadata": {},
   "outputs": [
    {
     "data": {
      "text/html": [
       "<div>\n",
       "<style scoped>\n",
       "    .dataframe tbody tr th:only-of-type {\n",
       "        vertical-align: middle;\n",
       "    }\n",
       "\n",
       "    .dataframe tbody tr th {\n",
       "        vertical-align: top;\n",
       "    }\n",
       "\n",
       "    .dataframe thead th {\n",
       "        text-align: right;\n",
       "    }\n",
       "</style>\n",
       "<table border=\"1\" class=\"dataframe\">\n",
       "  <thead>\n",
       "    <tr style=\"text-align: right;\">\n",
       "      <th></th>\n",
       "      <th></th>\n",
       "      <th>Age</th>\n",
       "    </tr>\n",
       "    <tr>\n",
       "      <th>City</th>\n",
       "      <th>Gender</th>\n",
       "      <th></th>\n",
       "    </tr>\n",
       "  </thead>\n",
       "  <tbody>\n",
       "    <tr>\n",
       "      <th rowspan=\"2\" valign=\"top\">Bangalore</th>\n",
       "      <th>F</th>\n",
       "      <td>12.0</td>\n",
       "    </tr>\n",
       "    <tr>\n",
       "      <th>M</th>\n",
       "      <td>42.0</td>\n",
       "    </tr>\n",
       "    <tr>\n",
       "      <th>Chennai</th>\n",
       "      <th>F</th>\n",
       "      <td>35.0</td>\n",
       "    </tr>\n",
       "    <tr>\n",
       "      <th rowspan=\"2\" valign=\"top\">Hyderabad</th>\n",
       "      <th>F</th>\n",
       "      <td>45.0</td>\n",
       "    </tr>\n",
       "    <tr>\n",
       "      <th>M</th>\n",
       "      <td>25.0</td>\n",
       "    </tr>\n",
       "    <tr>\n",
       "      <th rowspan=\"2\" valign=\"top\">Kolkata</th>\n",
       "      <th>F</th>\n",
       "      <td>21.0</td>\n",
       "    </tr>\n",
       "    <tr>\n",
       "      <th>M</th>\n",
       "      <td>22.0</td>\n",
       "    </tr>\n",
       "  </tbody>\n",
       "</table>\n",
       "</div>"
      ],
      "text/plain": [
       "                   Age\n",
       "City      Gender      \n",
       "Bangalore F       12.0\n",
       "          M       42.0\n",
       "Chennai   F       35.0\n",
       "Hyderabad F       45.0\n",
       "          M       25.0\n",
       "Kolkata   F       21.0\n",
       "          M       22.0"
      ]
     },
     "execution_count": 14,
     "metadata": {},
     "output_type": "execute_result"
    }
   ],
   "source": [
    "df_average_ages = df.groupby(['City', 'Gender'])['Age'].mean()\n",
    "df_average_ages = pd.DataFrame(df_average_ages)\n",
    "df_average_ages"
   ]
  },
  {
   "cell_type": "code",
   "execution_count": 15,
   "metadata": {},
   "outputs": [
    {
     "data": {
      "image/png": "[encoded data removed]",
      "text/plain": [
       "<Figure size 1000x600 with 1 Axes>"
      ]
     },
     "metadata": {},
     "output_type": "display_data"
    }
   ],
   "source": [
    "plt.figure(figsize=(10, 6))\n",
    "sns.barplot(data=df_average_ages, x='City', y='Age', hue='Gender', palette='rocket')\n",
    "plt.title('Average Age by Gender and City')\n",
    "plt.ylabel('Average Age')\n",
    "plt.show()"
   ]
  },
  {
   "cell_type": "markdown",
   "metadata": {},
   "source": [
    "#### 9. Given a list of N elements and a number K, check if there is any sub-array whose sum is exactly K. For example:\n",
    "\n",
    "```markdown\n",
    "\tA = [1, 4, 2, 7, 9, 10]  \n",
    "\t\n",
    "\tK=18 \n",
    "\t\n",
    "\tYes, as the sum of sub array [2,7,9] is 18\n",
    "```"
   ]
  },
  {
   "cell_type": "code",
   "execution_count": 16,
   "metadata": {},
   "outputs": [
    {
     "name": "stdout",
     "output_type": "stream",
     "text": [
      "Yes, as the sum of the sub array [4, 2, 7] is 13\n",
      "Yes, as the sum of the sub array [10, 3] is 13\n"
     ]
    }
   ],
   "source": [
    "A = [1, 4, 2, 7, 9, 10, 3]\n",
    "K = 13\n",
    "i = 0; j = 0\n",
    "\n",
    "for i in range(len(A)):\n",
    "    for j in range(i+1, len(A)+1):\n",
    "        if sum(A[i:j]) == K:\n",
    "            print(f\"Yes, as the sum of the sub array {A[i:j]} is {sum(A[i:j])}\")\n",
    "            break"
   ]
  },
  {
   "cell_type": "markdown",
   "metadata": {},
   "source": [
    "#### 10. You have been given a dict with the following structure"
   ]
  },
  {
   "cell_type": "code",
   "execution_count": 17,
   "metadata": {},
   "outputs": [
    {
     "data": {
      "text/plain": [
       "{'elements_type1': {'element_1': [{'length': 200, 'width': 400, 'id': 1},\n",
       "   {'length': 120, 'width': 450, 'id': 2},\n",
       "   {'length': 203, 'width': 470, 'id': 3}],\n",
       "  'element_2': [{'length': 260, 'width': 405, 'id': 1},\n",
       "   {'length': 178, 'width': 147, 'id': 5}],\n",
       "  'element_3': [{'length': 128, 'width': 145, 'id': 7},\n",
       "   {'length': 178, 'width': 147, 'id': 2}]},\n",
       " 'elements_type2': {'element_1': [{'length': 123, 'width': 221, 'id': 6},\n",
       "   {'length': 127, 'width': 415, 'id': 8},\n",
       "   {'length': 203, 'width': 170, 'id': 1}],\n",
       "  'element_2': [{'length': 260, 'width': 405, 'id': 1},\n",
       "   {'length': 189, 'width': 147, 'id': 15}],\n",
       "  'element_3': [{'length': 128, 'width': 375, 'id': 7},\n",
       "   {'length': 108, 'width': 368, 'id': 10}]}}"
      ]
     },
     "execution_count": 17,
     "metadata": {},
     "output_type": "execute_result"
    }
   ],
   "source": [
    "d = {\n",
    "    'elements_type1': {\n",
    "        'element_1': [\n",
    "            {'length': 200, 'width': 400, 'id': 1},\n",
    "            {'length': 120, 'width': 450, 'id': 2},\n",
    "            {'length': 203, 'width': 470, 'id': 3}\n",
    "        ],\n",
    "        'element_2': [\n",
    "            {'length': 260, 'width': 405, 'id': 1},\n",
    "            {'length': 178, 'width': 147, 'id': 5}\n",
    "        ],\n",
    "        'element_3': [\n",
    "            {'length': 128, 'width': 145, 'id': 7},\n",
    "            {'length': 178, 'width': 147, 'id': 2}\n",
    "        ]\n",
    "    },\n",
    "    'elements_type2': {\n",
    "        'element_1': [\n",
    "            {'length': 123, 'width': 221, 'id': 6},\n",
    "            {'length': 127, 'width': 415, 'id': 8},\n",
    "            {'length': 203, 'width': 170, 'id': 1}\n",
    "        ],\n",
    "        'element_2': [\n",
    "            {'length': 260, 'width': 405, 'id': 1},\n",
    "            {'length': 189, 'width': 147, 'id': 15}\n",
    "        ],\n",
    "        'element_3': [\n",
    "            {'length': 128, 'width': 375, 'id': 7},\n",
    "            {'length': 108, 'width': 368, 'id': 10}\n",
    "        ]\n",
    "    }\n",
    "}\n",
    "\n",
    "d"
   ]
  },
  {
   "cell_type": "markdown",
   "metadata": {},
   "source": [
    "#### Write a program to print all the elements whose `width` is more than 400. For the above input, the output should be:\n",
    "\n",
    "```python\n",
    "elements_type1 → element_1 → 1\n",
    "elements_type1 → element_1 → 2\n",
    "elements_type1 → element_1 → 3\n",
    "elements_type1 → element_2 → 1\n",
    "elements_type2 → element_1 → 8\n",
    "elements_type2 → element_2 → 1\n",
    "```"
   ]
  },
  {
   "cell_type": "code",
   "execution_count": 18,
   "metadata": {},
   "outputs": [
    {
     "name": "stdout",
     "output_type": "stream",
     "text": [
      "elements_type1 → element_1 → 1\n",
      "elements_type1 → element_1 → 2\n",
      "elements_type1 → element_1 → 3\n",
      "elements_type1 → element_2 → 1\n",
      "elements_type2 → element_1 → 8\n",
      "elements_type2 → element_2 → 1\n"
     ]
    }
   ],
   "source": [
    "for i in d:\n",
    "    for j in d[i]:\n",
    "        for k in d[i][j]:\n",
    "            if k['width'] >= 400:\n",
    "                print(f\"{i} → {j} → {k['id']}\")"
   ]
  }
 ],
 "metadata": {
  "kernelspec": {
   "display_name": "scala",
   "language": "python",
   "name": "python3"
  },
  "language_info": {
   "codemirror_mode": {
    "name": "ipython",
    "version": 3
   },
   "file_extension": ".py",
   "mimetype": "text/x-python",
   "name": "python",
   "nbconvert_exporter": "python",
   "pygments_lexer": "ipython3",
   "version": "3.12.7"
  }
 },
 "nbformat": 4,
 "nbformat_minor": 2
}
