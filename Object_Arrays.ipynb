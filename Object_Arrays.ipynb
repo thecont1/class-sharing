{
  "cells": [
    {
      "cell_type": "markdown",
      "metadata": {
        "id": "view-in-github",
        "colab_type": "text"
      },
      "source": [
        "<a href=\"https://colab.research.google.com/github/thecont1/class-sharing/blob/main/Post_read_(Object_arrays).ipynb\" target=\"_parent\"><img src=\"https://colab.research.google.com/assets/colab-badge.svg\" alt=\"Open In Colab\"/></a>"
      ]
    },
    {
      "cell_type": "markdown",
      "metadata": {
        "id": "P16drlNXVs_Q"
      },
      "source": [
        "## What are object arrays?\n",
        "\n",
        "- Object arrays are basically array of any Python datatype.\n",
        "\n",
        "Documentation: https://numpy.org/devdocs/reference/arrays.scalars.html#numpy.object"
      ]
    },
    {
      "cell_type": "code",
      "execution_count": null,
      "metadata": {
        "colab": {
          "base_uri": "https://localhost:8080/"
        },
        "id": "Oz9s1FzLU_kg",
        "outputId": "bae04daa-8c6d-489f-ffc3-cf01fb374817"
      },
      "outputs": [
        {
          "output_type": "execute_result",
          "data": {
            "text/plain": [
              "array([1, 'm', list([1, 2, 3])], dtype=object)"
            ]
          },
          "metadata": {},
          "execution_count": 35
        }
      ],
      "source": [
        "arr = np.array([1, 'm', [1,2,3]], dtype = 'object')\n",
        "arr"
      ]
    },
    {
      "cell_type": "markdown",
      "metadata": {
        "id": "Bh8b879bVgt0"
      },
      "source": [
        "There is an exception to `.copy()`:\n",
        "- **`.copy()` behaves as shallow copy when using `dtype='object'` array**.\n",
        "- It will not copy object elements within arrays."
      ]
    },
    {
      "cell_type": "markdown",
      "metadata": {
        "id": "YcqFdjX6W8Lx"
      },
      "source": [
        "#### But arrays are supposed to be homogeous data. How is it storing data of various types?\n",
        "\n",
        "Remember that everything is object in Python.\n",
        "\n",
        "Just like Python list,\n",
        "- The data actually **stored** in object arrays are **references to Python objects**, not the objects themselves.\n",
        "\n",
        "Hence, their elements need not be of the same Python type.\n",
        "\n",
        "**As every element in array is an object, therefore the dtype=object.**"
      ]
    },
    {
      "cell_type": "markdown",
      "metadata": {
        "id": "TfarCBPyW-mf"
      },
      "source": [
        "<img src=\"https://d2beiqkhq929f0.cloudfront.net/public_assets/assets/000/065/263/original/img.png?1708017404\" width=\"700\" height=\"100\">"
      ]
    },
    {
      "cell_type": "markdown",
      "metadata": {
        "id": "mWDFsb5iXBg_"
      },
      "source": [
        "Let's make a copy of object array and check whether it returns a shallow copy or deep copy."
      ]
    },
    {
      "cell_type": "code",
      "execution_count": null,
      "metadata": {
        "id": "RRUQXI9gV12U"
      },
      "outputs": [],
      "source": [
        "copy_arr = arr.copy()"
      ]
    },
    {
      "cell_type": "code",
      "execution_count": null,
      "metadata": {
        "colab": {
          "base_uri": "https://localhost:8080/"
        },
        "id": "n_ULB6UkXEGX",
        "outputId": "47e628a1-989d-4e4e-8890-1268c98fdbe7"
      },
      "outputs": [
        {
          "output_type": "execute_result",
          "data": {
            "text/plain": [
              "array([1, 'm', list([1, 2, 3])], dtype=object)"
            ]
          },
          "metadata": {},
          "execution_count": 37
        }
      ],
      "source": [
        "copy_arr"
      ]
    },
    {
      "cell_type": "markdown",
      "metadata": {
        "id": "Y2ERIA6nXIy3"
      },
      "source": [
        "Now, let's try to modify the list elements in `copy_arr`."
      ]
    },
    {
      "cell_type": "code",
      "execution_count": null,
      "metadata": {
        "id": "auIFTAt1XFp9"
      },
      "outputs": [],
      "source": [
        "copy_arr[2][0] = 999"
      ]
    },
    {
      "cell_type": "code",
      "execution_count": null,
      "metadata": {
        "colab": {
          "base_uri": "https://localhost:8080/"
        },
        "id": "dPE94OQgXMZ7",
        "outputId": "e8477980-244b-4417-b55b-a92e472c4bf4"
      },
      "outputs": [
        {
          "output_type": "execute_result",
          "data": {
            "text/plain": [
              "array([1, 'm', list([999, 2, 3])], dtype=object)"
            ]
          },
          "metadata": {},
          "execution_count": 39
        }
      ],
      "source": [
        "copy_arr"
      ]
    },
    {
      "cell_type": "markdown",
      "metadata": {
        "id": "8Do-aNUpXQyk"
      },
      "source": [
        "Let's see if it changed the original array as well."
      ]
    },
    {
      "cell_type": "code",
      "execution_count": null,
      "metadata": {
        "colab": {
          "base_uri": "https://localhost:8080/"
        },
        "id": "zNn7JTfeXNpG",
        "outputId": "57abecc8-cb56-4520-80c7-d0eb010725ca"
      },
      "outputs": [
        {
          "output_type": "execute_result",
          "data": {
            "text/plain": [
              "array([1, 'm', list([999, 2, 3])], dtype=object)"
            ]
          },
          "metadata": {},
          "execution_count": 40
        }
      ],
      "source": [
        "arr"
      ]
    },
    {
      "cell_type": "markdown",
      "metadata": {
        "id": "HeyJKbZ6XdFd"
      },
      "source": [
        "It did change the original array.\n",
        "\n",
        "Hence, **`.copy()` will return shallow copy when copying elements of array in object array.**\n",
        "\n",
        "Any change in the 2nd level elements of array will be reflected in original array as well."
      ]
    },
    {
      "cell_type": "markdown",
      "metadata": {
        "id": "sO4jpHpIXf-R"
      },
      "source": [
        "So, how do we create deep copy then?\n",
        "\n",
        "We can do so using `copy.deepcopy()` method."
      ]
    },
    {
      "cell_type": "markdown",
      "metadata": {
        "id": "Dvd_5JUwXjT0"
      },
      "source": [
        "#### `copy.deepcopy()`\n",
        "\n",
        "- Returns the deep copy of an array.\n",
        "\n",
        "Documentation: https://docs.python.org/3/library/copy.html#copy.deepcopy"
      ]
    },
    {
      "cell_type": "code",
      "execution_count": null,
      "metadata": {
        "id": "c1uV-6UGXSlj"
      },
      "outputs": [],
      "source": [
        "import copy"
      ]
    },
    {
      "cell_type": "code",
      "execution_count": null,
      "metadata": {
        "colab": {
          "base_uri": "https://localhost:8080/"
        },
        "id": "vX2RDEGCXlgK",
        "outputId": "01e2feba-a219-4c57-dc71-0b86544f4892"
      },
      "outputs": [
        {
          "output_type": "execute_result",
          "data": {
            "text/plain": [
              "array([1, 'm', list([1, 2, 3])], dtype=object)"
            ]
          },
          "metadata": {},
          "execution_count": 42
        }
      ],
      "source": [
        "arr = np.array([1, 'm', [1,2,3]], dtype = 'object')\n",
        "arr"
      ]
    },
    {
      "cell_type": "markdown",
      "metadata": {
        "id": "pW-Rcm3BXp7k"
      },
      "source": [
        "Let's make a copy using `deepcopy()`."
      ]
    },
    {
      "cell_type": "code",
      "execution_count": null,
      "metadata": {
        "id": "HThnLBvGXnvx",
        "colab": {
          "base_uri": "https://localhost:8080/"
        },
        "outputId": "2dfdf4ec-52d3-48d0-eba6-a89ed6a06071"
      },
      "outputs": [
        {
          "output_type": "execute_result",
          "data": {
            "text/plain": [
              "array([1, 'm', list([1, 2, 3])], dtype=object)"
            ]
          },
          "metadata": {},
          "execution_count": 43
        }
      ],
      "source": [
        "copy = copy.deepcopy(arr)\n",
        "copy"
      ]
    },
    {
      "cell_type": "markdown",
      "metadata": {
        "id": "h6jEc-GuXva2"
      },
      "source": [
        "Let's modify the array inside copy array."
      ]
    },
    {
      "cell_type": "code",
      "execution_count": null,
      "metadata": {
        "id": "mOhozQEpXtNa",
        "colab": {
          "base_uri": "https://localhost:8080/"
        },
        "outputId": "adb133a9-2bc3-4d3b-8587-aa84b06b0ea3"
      },
      "outputs": [
        {
          "output_type": "execute_result",
          "data": {
            "text/plain": [
              "array([1, 'm', list([999, 2, 3])], dtype=object)"
            ]
          },
          "metadata": {},
          "execution_count": 44
        }
      ],
      "source": [
        "copy[2][0] = 999\n",
        "copy"
      ]
    },
    {
      "cell_type": "code",
      "execution_count": null,
      "metadata": {
        "colab": {
          "base_uri": "https://localhost:8080/"
        },
        "id": "KVOIIcIjXzSD",
        "outputId": "b3f03288-feb6-4181-b4fd-394fc53fa9b0"
      },
      "outputs": [
        {
          "output_type": "execute_result",
          "data": {
            "text/plain": [
              "array([1, 'm', list([1, 2, 3])], dtype=object)"
            ]
          },
          "metadata": {},
          "execution_count": 45
        }
      ],
      "source": [
        "arr"
      ]
    },
    {
      "cell_type": "markdown",
      "metadata": {
        "id": "pyX2oIH_X8YU"
      },
      "source": [
        "Notice that the changes in copy array didn't reflect back to original array.\n",
        "\n",
        "`copy.deepcopy()` **returns deep copy of an array.**"
      ]
    }
  ],
  "metadata": {
    "colab": {
      "provenance": [],
      "include_colab_link": true
    },
    "kernelspec": {
      "display_name": "Python 3",
      "name": "python3"
    },
    "language_info": {
      "name": "python"
    }
  },
  "nbformat": 4,
  "nbformat_minor": 0
}