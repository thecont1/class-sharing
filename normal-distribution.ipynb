{
 "cells": [
  {
   "cell_type": "code",
   "execution_count": 1,
   "metadata": {},
   "outputs": [],
   "source": [
    "import numpy as np\n",
    "import pandas as pd\n",
    "import seaborn as sns\n",
    "import matplotlib.pyplot as plt\n",
    "from scipy.stats import norm"
   ]
  },
  {
   "cell_type": "markdown",
   "metadata": {},
   "source": [
    "An unknown distribution has a mean of 90 and a standard deviation of 15. \n",
    "\n",
    "Samples of size n = 35 are drawn randomly from the population. \n",
    "\n",
    "Find the probability that the sample mean is between 85 and 92. \n",
    "\n",
    "(Round off the answer to 4 decimal points)"
   ]
  },
  {
   "cell_type": "code",
   "execution_count": 2,
   "metadata": {},
   "outputs": [],
   "source": [
    "def p_is_between(a, b):\n",
    "    return round(norm.cdf(x=b, loc=mu, scale=SE) - norm.cdf(x=a, loc=mu,    scale=SE), 4)"
   ]
  },
  {
   "cell_type": "code",
   "execution_count": 3,
   "metadata": {},
   "outputs": [
    {
     "name": "stdout",
     "output_type": "stream",
     "text": [
      "Standard Error = 2.53546276418555\n"
     ]
    },
    {
     "data": {
      "text/plain": [
       "0.7606"
      ]
     },
     "execution_count": 3,
     "metadata": {},
     "output_type": "execute_result"
    }
   ],
   "source": [
    "# sample size\n",
    "n = 35\n",
    "\n",
    "# mean\n",
    "mu = 90\n",
    "\n",
    "# standard deviation\n",
    "sigma = 15\n",
    "\n",
    "# standard error\n",
    "SE = sigma / np.sqrt(n)\n",
    "\n",
    "print(f\"Standard Error = {SE}\")\n",
    "\n",
    "p_is_between(85, 92)"
   ]
  },
  {
   "cell_type": "markdown",
   "metadata": {},
   "source": [
    "The tip percentage for a delivery person has a mean value of 28% and a standard deviation of 7%. \n",
    "\n",
    "What is the probability that the sample mean tip percentage for a random sample of 50 bills is between 26% and 31%?"
   ]
  },
  {
   "cell_type": "code",
   "execution_count": 4,
   "metadata": {},
   "outputs": [
    {
     "name": "stdout",
     "output_type": "stream",
     "text": [
      "Standard Error = 0.9899494936611665\n"
     ]
    },
    {
     "data": {
      "text/plain": [
       "0.9771"
      ]
     },
     "execution_count": 4,
     "metadata": {},
     "output_type": "execute_result"
    }
   ],
   "source": [
    "# sample size\n",
    "n = 50\n",
    "\n",
    "# mean\n",
    "mu = 28\n",
    "\n",
    "# standard deviation\n",
    "sigma = 7\n",
    "\n",
    "# standard error\n",
    "SE = sigma / np.sqrt(n)\n",
    "\n",
    "print(f\"Standard Error = {SE}\")\n",
    "\n",
    "p_is_between(26, 31)"
   ]
  },
  {
   "cell_type": "markdown",
   "metadata": {},
   "source": [
    "You are working for the Department of Endangered Species. Along with your team, you have bred a certain species of endangered fish in your pond.\n",
    "\n",
    "On taking a sample of 100 fishes, the calculated average length of this species came out to be 24cm. \n",
    "\n",
    "It is known that the population standard deviation in the length of these fishes is 8cm.\n",
    "\n",
    "Estimate the mean length confidence interval of the fishes in the pond with a confidence of 95 percent.\n",
    "\n",
    "Note: z-multiplier for 95% is 1.96."
   ]
  },
  {
   "cell_type": "code",
   "execution_count": 5,
   "metadata": {},
   "outputs": [
    {
     "name": "stdout",
     "output_type": "stream",
     "text": [
      "Standard Error = 0.8\n"
     ]
    },
    {
     "data": {
      "text/plain": [
       "(22.432, 25.568)"
      ]
     },
     "execution_count": 5,
     "metadata": {},
     "output_type": "execute_result"
    }
   ],
   "source": [
    "# sample size\n",
    "n = 100\n",
    "\n",
    "# mean\n",
    "mu = 24\n",
    "\n",
    "# standard deviation\n",
    "sigma = 8\n",
    "\n",
    "# standard error\n",
    "SE = sigma / np.sqrt(n)\n",
    "\n",
    "print(f\"Standard Error = {SE}\")\n",
    "\n",
    "z = 1.96\n",
    "\n",
    "(mu - z * SE, mu + z * SE)"
   ]
  },
  {
   "cell_type": "markdown",
   "metadata": {},
   "source": [
    "A company wants to estimate the average purchase amount made by customers on their e-commerce platform.\n",
    "\n",
    "They collect a random sample of 100 transactions and found that the average purchase amount is $75 with a standard deviation of $10. \n",
    "\n",
    "Construct a 90% confidence interval for the true average purchase amount."
   ]
  },
  {
   "cell_type": "code",
   "execution_count": 6,
   "metadata": {},
   "outputs": [
    {
     "name": "stdout",
     "output_type": "stream",
     "text": [
      "Standard Error = 1.0\n"
     ]
    },
    {
     "data": {
      "text/plain": [
       "(73.355, 76.645)"
      ]
     },
     "execution_count": 6,
     "metadata": {},
     "output_type": "execute_result"
    }
   ],
   "source": [
    "# sample size\n",
    "n = 100\n",
    "\n",
    "# mean\n",
    "mu = 75\n",
    "\n",
    "# standard deviation\n",
    "sigma = 10\n",
    "\n",
    "# standard error\n",
    "SE = sigma / np.sqrt(n)\n",
    "\n",
    "print(f\"Standard Error = {SE}\")\n",
    "\n",
    "z = 1.645\n",
    "\n",
    "(mu - z * SE, mu + z * SE)"
   ]
  },
  {
   "cell_type": "markdown",
   "metadata": {},
   "source": [
    "Based on extensive data from an urban freeway near Toronto, Canada.\n",
    "\n",
    "It is observed that freeway speeds can best be represented by a normal distribution.\n",
    "\n",
    "The mean and standard deviation reported were 119 km/h and 13.1 km/h, respectively. \n",
    "\n",
    "Which speed is among the fastest 10% of all speeds?"
   ]
  },
  {
   "cell_type": "code",
   "execution_count": 7,
   "metadata": {},
   "outputs": [
    {
     "name": "stdout",
     "output_type": "stream",
     "text": [
      "The p-value of 0.9000 corresponds to a z-value of 1.2816\n",
      "The 90th percentile of the distribution is 135.8 km/h\n"
     ]
    }
   ],
   "source": [
    "# mean\n",
    "mu = 119\n",
    "\n",
    "# standard deviation\n",
    "sigma = 13.1\n",
    "\n",
    "z = round(norm.ppf(0.9000), 4)\n",
    "\n",
    "print(f\"The p-value of 0.9000 corresponds to a z-value of {z}\")\n",
    "\n",
    "M = round((z * sigma) + mu, 1)\n",
    "\n",
    "print(f\"The 90th percentile of the distribution is {M} km/h\")"
   ]
  },
  {
   "cell_type": "markdown",
   "metadata": {},
   "source": [
    "Suppose your city has a large population, where the average height is 65 inches with a standard deviation of 4 inches, and your height is 60 inches.\n",
    "\n",
    "What is the probability that a randomly selected person in your city is shorter than you? (Round off the answer to 4 decimal points)"
   ]
  },
  {
   "cell_type": "code",
   "execution_count": 8,
   "metadata": {},
   "outputs": [
    {
     "name": "stdout",
     "output_type": "stream",
     "text": [
      "The z-value -1.25 corresponds to a probability of 10.56%\n"
     ]
    }
   ],
   "source": [
    "# mean\n",
    "mu = 65\n",
    "\n",
    "# standard deviation\n",
    "sigma = 4\n",
    "\n",
    "z = (60 - mu) / sigma\n",
    "p = round(norm.cdf(z), 4)\n",
    "\n",
    "print(f\"The z-value {z} corresponds to a probability of {p*100}%\")"
   ]
  },
  {
   "cell_type": "markdown",
   "metadata": {},
   "source": [
    "The mean weight of a sample of dogs is 25 kg with a standard deviation of 3 kg. \n",
    "\n",
    "What is the z-score for a dog who weighs 20 kg ?"
   ]
  },
  {
   "cell_type": "code",
   "execution_count": 9,
   "metadata": {},
   "outputs": [
    {
     "data": {
      "text/plain": [
       "-1.6666666666666667"
      ]
     },
     "execution_count": 9,
     "metadata": {},
     "output_type": "execute_result"
    }
   ],
   "source": [
    "# mean\n",
    "mu = 25\n",
    "\n",
    "# standard deviation\n",
    "sigma = 3\n",
    "\n",
    "z = (20 - mu) / sigma\n",
    "\n",
    "z"
   ]
  },
  {
   "cell_type": "markdown",
   "metadata": {},
   "source": [
    "A paint manufacturer in Delhi claims that his paint lasts for 5 years, on an average.\n",
    "\n",
    "Assuming that paint life is normally distributed and has a standard deviation of 0.5 years.\n",
    "\n",
    "If you randomly select 5 houses, what is the probability that the average paint life from these houses is less than 5.5 years ?"
   ]
  },
  {
   "cell_type": "code",
   "execution_count": 10,
   "metadata": {},
   "outputs": [
    {
     "name": "stdout",
     "output_type": "stream",
     "text": [
      "The probability is 98.73%\n"
     ]
    }
   ],
   "source": [
    "# sample size\n",
    "n = 5\n",
    "\n",
    "# mean\n",
    "mu = 5\n",
    "\n",
    "# standard deviation\n",
    "sigma = 0.5\n",
    "\n",
    "# standard error\n",
    "SE = sigma / np.sqrt(n)\n",
    "\n",
    "z = (5.5 - mu) / SE\n",
    "p = round(norm.cdf(z), 4)\n",
    "\n",
    "print(f\"The probability is {round(p*100, 2)}%\")"
   ]
  },
  {
   "cell_type": "markdown",
   "metadata": {},
   "source": [
    "The average calcium intake for adults (ages 19–50) is 1000 milligrams (mg) per day.\n",
    "\n",
    "Assuming that we take a sample of 35 such adults, what percentage of them have a mean calcium intake of at most 947.4mg?\n",
    "\n",
    "Assume population standard deviation (σ) = 188 mg"
   ]
  },
  {
   "cell_type": "code",
   "execution_count": 11,
   "metadata": {},
   "outputs": [
    {
     "name": "stdout",
     "output_type": "stream",
     "text": [
      "Percentage of adults that have a mean calcium intake of at most 947.4 mg = 4.89%\n"
     ]
    }
   ],
   "source": [
    "# sample size\n",
    "n = 35\n",
    "\n",
    "# mean\n",
    "mu = 1000\n",
    "\n",
    "# standard deviation\n",
    "sigma = 188\n",
    "\n",
    "# standard error\n",
    "SE = sigma / np.sqrt(n)\n",
    "\n",
    "z = (947.4 - mu) / SE\n",
    "p = round(norm.cdf(z), 4)\n",
    "\n",
    "print(f\"Percentage of adults that have a mean calcium intake of at most 947.4 mg = {round(p*100, 2)}%\")"
   ]
  },
  {
   "cell_type": "markdown",
   "metadata": {},
   "source": [
    "The life of LED light bulbs manufactured in a factory is normally distributed with a mean equal to 900 hours and a standard deviation of 50 hours.\n",
    "\n",
    "Find the probability that a random sample of 20 bulbs will have an average life of less than 875 hours.\n",
    "\n",
    "(Round off the answer to 4 decimal points)"
   ]
  },
  {
   "cell_type": "code",
   "execution_count": 12,
   "metadata": {},
   "outputs": [
    {
     "name": "stdout",
     "output_type": "stream",
     "text": [
      "probability that a random sample of 20 bulbs will have an average life of less than 875 hours = 1.27%\n"
     ]
    }
   ],
   "source": [
    "# sample size\n",
    "n = 20\n",
    "\n",
    "# mean\n",
    "mu = 900\n",
    "\n",
    "# standard deviation\n",
    "sigma = 50\n",
    "\n",
    "# standard error\n",
    "SE = sigma / np.sqrt(n)\n",
    "\n",
    "z = (875 - mu) / SE\n",
    "p = round(norm.cdf(z), 4)\n",
    "\n",
    "print(f\"probability that a random sample of 20 bulbs will have an average life of less than 875 hours = {round(p*100, 2)}%\")"
   ]
  },
  {
   "cell_type": "markdown",
   "metadata": {},
   "source": [
    "The mean height of a sample of 100 adults was found to be 165 cm. \n",
    "\n",
    "The population standard deviation for height of adults is known to be 8 cm.\n",
    "\n",
    "Construct a 90% confidence interval for the true mean height of the adult population."
   ]
  },
  {
   "cell_type": "code",
   "execution_count": 13,
   "metadata": {},
   "outputs": [
    {
     "name": "stdout",
     "output_type": "stream",
     "text": [
      "90% confidence interval for the true mean height of the adult population: (163.684, 166.316)\n"
     ]
    }
   ],
   "source": [
    "# sample size\n",
    "n = 100\n",
    "\n",
    "# mean\n",
    "mu = 165\n",
    "\n",
    "# standard deviation\n",
    "sigma = 8\n",
    "\n",
    "# standard error\n",
    "SE = sigma / np.sqrt(n)\n",
    "\n",
    "z = 1.645\n",
    "\n",
    "print(f\"90% confidence interval for the true mean height of the adult population: {(mu - z * SE, mu + z * SE)}\")"
   ]
  }
 ],
 "metadata": {
  "kernelspec": {
   "display_name": "scala",
   "language": "python",
   "name": "python3"
  },
  "language_info": {
   "codemirror_mode": {
    "name": "ipython",
    "version": 3
   },
   "file_extension": ".py",
   "mimetype": "text/x-python",
   "name": "python",
   "nbconvert_exporter": "python",
   "pygments_lexer": "ipython3",
   "version": "3.12.7"
  }
 },
 "nbformat": 4,
 "nbformat_minor": 2
}
