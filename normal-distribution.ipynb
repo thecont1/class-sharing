{
 "cells": [
  {
   "cell_type": "code",
   "execution_count": 28,
   "metadata": {},
   "outputs": [],
   "source": [
    "import numpy as np\n",
    "import pandas as pd\n",
    "import matplotlib.pyplot as plt\n",
    "from scipy.stats import norm, poisson, binom, geom, expon"
   ]
  },
  {
   "cell_type": "markdown",
   "metadata": {},
   "source": [
    "An unknown distribution has a mean of 90 and a standard deviation of 15. \n",
    "\n",
    "Samples of size n = 35 are drawn randomly from the population. \n",
    "\n",
    "Find the probability that the sample mean is between 85 and 92. \n",
    "\n",
    "(Round off the answer to 4 decimal points)"
   ]
  },
  {
   "cell_type": "code",
   "execution_count": 21,
   "metadata": {},
   "outputs": [],
   "source": [
    "def p_is_between(a, b):\n",
    "    return round(norm.cdf(x=b, loc=mu, scale=SE) - norm.cdf(x=a, loc=mu,    scale=SE), 4)"
   ]
  },
  {
   "cell_type": "code",
   "execution_count": 22,
   "metadata": {},
   "outputs": [
    {
     "name": "stdout",
     "output_type": "stream",
     "text": [
      "Standard Error = 2.53546276418555\n"
     ]
    },
    {
     "data": {
      "text/plain": [
       "0.7606"
      ]
     },
     "execution_count": 22,
     "metadata": {},
     "output_type": "execute_result"
    }
   ],
   "source": [
    "# sample size\n",
    "n = 35\n",
    "\n",
    "# mean\n",
    "mu = 90\n",
    "\n",
    "# standard deviation\n",
    "sigma = 15\n",
    "\n",
    "# standard error\n",
    "SE = sigma / np.sqrt(n)\n",
    "\n",
    "print(f\"Standard Error = {SE}\")\n",
    "\n",
    "p_is_between(85, 92)"
   ]
  },
  {
   "cell_type": "markdown",
   "metadata": {},
   "source": [
    "The tip percentage for a delivery person has a mean value of 28% and a standard deviation of 7%. \n",
    "\n",
    "What is the probability that the sample mean tip percentage for a random sample of 50 bills is between 26% and 31%?"
   ]
  },
  {
   "cell_type": "code",
   "execution_count": 23,
   "metadata": {},
   "outputs": [
    {
     "name": "stdout",
     "output_type": "stream",
     "text": [
      "Standard Error = 0.9899494936611665\n"
     ]
    },
    {
     "data": {
      "text/plain": [
       "0.9771"
      ]
     },
     "execution_count": 23,
     "metadata": {},
     "output_type": "execute_result"
    }
   ],
   "source": [
    "# sample size\n",
    "n = 50\n",
    "\n",
    "# mean\n",
    "mu = 28\n",
    "\n",
    "# standard deviation\n",
    "sigma = 7\n",
    "\n",
    "# standard error\n",
    "SE = sigma / np.sqrt(n)\n",
    "\n",
    "print(f\"Standard Error = {SE}\")\n",
    "\n",
    "p_is_between(26, 31)"
   ]
  },
  {
   "cell_type": "markdown",
   "metadata": {},
   "source": [
    "You are working for the Department of Endangered Species. Along with your team, you have bred a certain species of endangered fish in your pond.\n",
    "\n",
    "On taking a sample of 100 fishes, the calculated average length of this species came out to be 24cm. \n",
    "\n",
    "It is known that the population standard deviation in the length of these fishes is 8cm.\n",
    "\n",
    "Estimate the mean length confidence interval of the fishes in the pond with a confidence of 95 percent.\n",
    "\n",
    "Note: z-multiplier for 95% is 1.96."
   ]
  },
  {
   "cell_type": "code",
   "execution_count": 24,
   "metadata": {},
   "outputs": [
    {
     "name": "stdout",
     "output_type": "stream",
     "text": [
      "Standard Error = 0.8\n"
     ]
    },
    {
     "data": {
      "text/plain": [
       "(22.432, 25.568)"
      ]
     },
     "execution_count": 24,
     "metadata": {},
     "output_type": "execute_result"
    }
   ],
   "source": [
    "# sample size\n",
    "n = 100\n",
    "\n",
    "# mean\n",
    "mu = 24\n",
    "\n",
    "# standard deviation\n",
    "sigma = 8\n",
    "\n",
    "# standard error\n",
    "SE = sigma / np.sqrt(n)\n",
    "\n",
    "print(f\"Standard Error = {SE}\")\n",
    "\n",
    "z = 1.96\n",
    "\n",
    "(mu - z * SE, mu + z * SE)"
   ]
  },
  {
   "cell_type": "markdown",
   "metadata": {},
   "source": [
    "A company wants to estimate the average purchase amount made by customers on their e-commerce platform.\n",
    "\n",
    "They collect a random sample of 100 transactions and found that the average purchase amount is $75 with a standard deviation of $10. \n",
    "\n",
    "Construct a 90% confidence interval for the true average purchase amount."
   ]
  },
  {
   "cell_type": "code",
   "execution_count": 25,
   "metadata": {},
   "outputs": [
    {
     "name": "stdout",
     "output_type": "stream",
     "text": [
      "Standard Error = 1.0\n"
     ]
    },
    {
     "data": {
      "text/plain": [
       "(73.355, 76.645)"
      ]
     },
     "execution_count": 25,
     "metadata": {},
     "output_type": "execute_result"
    }
   ],
   "source": [
    "# sample size\n",
    "n = 100\n",
    "\n",
    "# mean\n",
    "mu = 75\n",
    "\n",
    "# standard deviation\n",
    "sigma = 10\n",
    "\n",
    "# standard error\n",
    "SE = sigma / np.sqrt(n)\n",
    "\n",
    "print(f\"Standard Error = {SE}\")\n",
    "\n",
    "z = 1.645\n",
    "\n",
    "(mu - z * SE, mu + z * SE)"
   ]
  },
  {
   "cell_type": "markdown",
   "metadata": {},
   "source": [
    "Based on extensive data from an urban freeway near Toronto, Canada.\n",
    "\n",
    "It is observed that freeway speeds can best be represented by a normal distribution.\n",
    "\n",
    "The mean and standard deviation reported were 119 km/h and 13.1 km/h, respectively. \n",
    "\n",
    "Which speed is among the fastest 10% of all speeds?"
   ]
  },
  {
   "cell_type": "code",
   "execution_count": 26,
   "metadata": {},
   "outputs": [
    {
     "name": "stdout",
     "output_type": "stream",
     "text": [
      "The p-value of 0.9000 corresponds to a z-value of 1.2816\n",
      "The 90th percentile of the distribution is 135.8 km/h\n"
     ]
    }
   ],
   "source": [
    "# mean\n",
    "mu = 119\n",
    "\n",
    "# standard deviation\n",
    "sigma = 13.1\n",
    "\n",
    "z = round(norm.ppf(0.9000), 4)\n",
    "\n",
    "print(f\"The p-value of 0.9000 corresponds to a z-value of {z}\")\n",
    "\n",
    "M = round((z * sigma) + mu, 1)\n",
    "\n",
    "print(f\"The 90th percentile of the distribution is {M} km/h\")"
   ]
  },
  {
   "cell_type": "markdown",
   "metadata": {},
   "source": [
    "Suppose your city has a large population, where the average height is 65 inches with a standard deviation of 4 inches, and your height is 60 inches.\n",
    "\n",
    "What is the probability that a randomly selected person in your city is shorter than you? (Round off the answer to 4 decimal points)"
   ]
  },
  {
   "cell_type": "code",
   "execution_count": 27,
   "metadata": {},
   "outputs": [
    {
     "name": "stdout",
     "output_type": "stream",
     "text": [
      "The z-value -1.25 corresponds to a probability of 10.56%\n"
     ]
    }
   ],
   "source": [
    "# mean\n",
    "mu = 65\n",
    "\n",
    "# standard deviation\n",
    "sigma = 4\n",
    "\n",
    "z = (60 - mu) / sigma\n",
    "p = round(norm.cdf(z), 4)\n",
    "\n",
    "print(f\"The z-value {z} corresponds to a probability of {p*100}%\")"
   ]
  },
  {
   "cell_type": "markdown",
   "metadata": {},
   "source": [
    "The mean weight of a sample of dogs is 25 kg with a standard deviation of 3 kg. \n",
    "\n",
    "What is the z-score for a dog who weighs 20 kg ?"
   ]
  },
  {
   "cell_type": "code",
   "execution_count": 28,
   "metadata": {},
   "outputs": [
    {
     "data": {
      "text/plain": [
       "-1.6666666666666667"
      ]
     },
     "execution_count": 28,
     "metadata": {},
     "output_type": "execute_result"
    }
   ],
   "source": [
    "# mean\n",
    "mu = 25\n",
    "\n",
    "# standard deviation\n",
    "sigma = 3\n",
    "\n",
    "z = (20 - mu) / sigma\n",
    "\n",
    "z"
   ]
  },
  {
   "cell_type": "markdown",
   "metadata": {},
   "source": [
    "A paint manufacturer in Delhi claims that his paint lasts for 5 years, on an average.\n",
    "\n",
    "Assuming that paint life is normally distributed and has a standard deviation of 0.5 years.\n",
    "\n",
    "If you randomly select 5 houses, what is the probability that the average paint life from these houses is less than 5.5 years ?"
   ]
  },
  {
   "cell_type": "code",
   "execution_count": 29,
   "metadata": {},
   "outputs": [
    {
     "name": "stdout",
     "output_type": "stream",
     "text": [
      "The probability is 98.73%\n"
     ]
    }
   ],
   "source": [
    "# sample size\n",
    "n = 5\n",
    "\n",
    "# mean\n",
    "mu = 5\n",
    "\n",
    "# standard deviation\n",
    "sigma = 0.5\n",
    "\n",
    "# standard error\n",
    "SE = sigma / np.sqrt(n)\n",
    "\n",
    "z = (5.5 - mu) / SE\n",
    "p = round(norm.cdf(z), 4)\n",
    "\n",
    "print(f\"The probability is {round(p*100, 2)}%\")"
   ]
  },
  {
   "cell_type": "markdown",
   "metadata": {},
   "source": [
    "The average calcium intake for adults (ages 19–50) is 1000 milligrams (mg) per day.\n",
    "\n",
    "Assuming that we take a sample of 35 such adults, what percentage of them have a mean calcium intake of at most 947.4mg?\n",
    "\n",
    "Assume population standard deviation (σ) = 188 mg"
   ]
  },
  {
   "cell_type": "code",
   "execution_count": 30,
   "metadata": {},
   "outputs": [
    {
     "name": "stdout",
     "output_type": "stream",
     "text": [
      "Percentage of adults that have a mean calcium intake of at most 947.4 mg = 4.89%\n"
     ]
    }
   ],
   "source": [
    "# sample size\n",
    "n = 35\n",
    "\n",
    "# mean\n",
    "mu = 1000\n",
    "\n",
    "# standard deviation\n",
    "sigma = 188\n",
    "\n",
    "# standard error\n",
    "SE = sigma / np.sqrt(n)\n",
    "\n",
    "z = (947.4 - mu) / SE\n",
    "p = round(norm.cdf(z), 4)\n",
    "\n",
    "print(f\"Percentage of adults that have a mean calcium intake of at most 947.4 mg = {round(p*100, 2)}%\")"
   ]
  },
  {
   "cell_type": "markdown",
   "metadata": {},
   "source": [
    "The life of LED light bulbs manufactured in a factory is normally distributed with a mean equal to 900 hours and a standard deviation of 50 hours.\n",
    "\n",
    "Find the probability that a random sample of 20 bulbs will have an average life of less than 875 hours.\n",
    "\n",
    "(Round off the answer to 4 decimal points)"
   ]
  },
  {
   "cell_type": "code",
   "execution_count": 31,
   "metadata": {},
   "outputs": [
    {
     "name": "stdout",
     "output_type": "stream",
     "text": [
      "probability that a random sample of 20 bulbs will have an average life of less than 875 hours = 1.27%\n"
     ]
    }
   ],
   "source": [
    "# sample size\n",
    "n = 20\n",
    "\n",
    "# mean\n",
    "mu = 900\n",
    "\n",
    "# standard deviation\n",
    "sigma = 50\n",
    "\n",
    "# standard error\n",
    "SE = sigma / np.sqrt(n)\n",
    "\n",
    "z = (875 - mu) / SE\n",
    "p = round(norm.cdf(z), 4)\n",
    "\n",
    "print(f\"probability that a random sample of 20 bulbs will have an average life of less than 875 hours = {round(p*100, 2)}%\")"
   ]
  },
  {
   "cell_type": "markdown",
   "metadata": {},
   "source": [
    "The mean height of a sample of 100 adults was found to be 165 cm. \n",
    "\n",
    "The population standard deviation for height of adults is known to be 8 cm.\n",
    "\n",
    "Construct a 90% confidence interval for the true mean height of the adult population."
   ]
  },
  {
   "cell_type": "code",
   "execution_count": 32,
   "metadata": {},
   "outputs": [
    {
     "name": "stdout",
     "output_type": "stream",
     "text": [
      "90% confidence interval for the true mean height of the adult population: (163.684, 166.316)\n"
     ]
    }
   ],
   "source": [
    "# sample size\n",
    "n = 100\n",
    "\n",
    "# mean\n",
    "mu = 165\n",
    "\n",
    "# standard deviation\n",
    "sigma = 8\n",
    "\n",
    "# standard error\n",
    "SE = sigma / np.sqrt(n)\n",
    "\n",
    "z = 1.645\n",
    "\n",
    "print(f\"90% confidence interval for the true mean height of the adult population: {(mu - z * SE, mu + z * SE)}\")"
   ]
  },
  {
   "cell_type": "code",
   "execution_count": 32,
   "metadata": {},
   "outputs": [
    {
     "data": {
      "text/plain": [
       "'11.3%'"
      ]
     },
     "execution_count": 32,
     "metadata": {},
     "output_type": "execute_result"
    }
   ],
   "source": [
    "lam=10\n",
    "k_range=8\n",
    "f\"{round(100*(poisson.pmf(k=k_range, mu=lam)),1)}%\""
   ]
  },
  {
   "cell_type": "code",
   "execution_count": 33,
   "metadata": {},
   "outputs": [
    {
     "data": {
      "text/plain": [
       "'62.9%'"
      ]
     },
     "execution_count": 33,
     "metadata": {},
     "output_type": "execute_result"
    }
   ],
   "source": [
    "lam=4\n",
    "k_range=4\n",
    "f\"{round(100*(poisson.cdf(k=k_range, mu=lam)),1)}%\""
   ]
  },
  {
   "cell_type": "markdown",
   "metadata": {},
   "source": [
    "## Probability Distributions 1"
   ]
  },
  {
   "cell_type": "markdown",
   "metadata": {},
   "source": [
    "In a factory, the probability of producing a defective bulb is 0.25. \n",
    "\n",
    "A sample of 40 bulbs is collected.\n",
    "\n",
    "What is the probability that exactly 10 bulbs are defective?"
   ]
  },
  {
   "cell_type": "markdown",
   "metadata": {},
   "source": [
    "The probability of a person not boarding a cab despite having paid for the seat is 0.4. \n",
    "\n",
    "A rideshare app always sells 6 seats in their cabs which can only accommodate 4 people.\n",
    "\n",
    "What is the probability that everyone who shows up for the ride gets a seat?"
   ]
  },
  {
   "cell_type": "markdown",
   "metadata": {},
   "source": [
    "A large-scale survey by government automation authority found that 12% of the cars have faulty brake lights. \n",
    "\n",
    "Find the probability that in a random sample of 10 cars, less than 4 cars have faulty brake lights?"
   ]
  },
  {
   "cell_type": "markdown",
   "metadata": {},
   "source": [
    "A basketball player takes 5 independent free throws with a probability of 0.6 for getting a basket on each shot.\n",
    "\n",
    "Find the probability that he gets exactly 3 baskets."
   ]
  },
  {
   "cell_type": "markdown",
   "metadata": {},
   "source": [
    "A fair coin is flipped 4 times. What is the probability of landing 3 or less than 3 heads?"
   ]
  },
  {
   "cell_type": "markdown",
   "metadata": {},
   "source": [
    "## Probability Distributions 2"
   ]
  },
  {
   "cell_type": "markdown",
   "metadata": {},
   "source": [
    "Samples of size 100 are selected from a population with a mean of 37 and a standard deviation of 12.\n",
    "\n",
    "What is the standard error of the sampling distribution of sample means?"
   ]
  },
  {
   "cell_type": "markdown",
   "metadata": {},
   "source": [
    "An Aadhar card number is selected at random from a database. Suppose X denotes the last digit of the selected Aadhar card number.\n",
    "\n",
    "a)What is the probability that the last digit of the selected number is 7?\n",
    "\n",
    "b) What is the probability that the last digit of the selected number is less than 4?"
   ]
  },
  {
   "cell_type": "markdown",
   "metadata": {},
   "source": [
    "A warehouse receives orders for a particular product regularly. \n",
    "\n",
    "When an order is placed, customers can order 1,2,3 or 4 units of the product. \n",
    "\n",
    "Past data suggests that the size of any given order is equally likely to be any of the four units.\n",
    "\n",
    "a)What is the probability that the customer orders at least two units?\n",
    "\n",
    "b) Calculate the mean of the customer order size.\n",
    "\n",
    "c) Calculate the standard deviation of the customer order size."
   ]
  },
  {
   "cell_type": "markdown",
   "metadata": {},
   "source": [
    "Suppose there are 20 different types of coupons and suppose that each time one obtains a coupon it is equally likely to be any one of the types. \n",
    "\n",
    "Compute the expected number of different types that are contained in the set for 10 coupons."
   ]
  },
  {
   "cell_type": "markdown",
   "metadata": {},
   "source": [
    "In a game of Tetris, there are seven different shapes: I, J, L, O, S, T, and Z.\n",
    "\n",
    "Assume that, at any stage of the game, all seven shapes are equally likely to be produced, independent of whatever pieces have been produced previously.\n",
    "\n",
    "Consider the sequences of three consecutive pieces observed during a game of Tetris, such as JLL, ZOS, ZSZ, III and so on.\n",
    "\n",
    "What is the probability that a 'T' does not occur in the first three-piece sequence, but does occur in the second such sequence?\n",
    "\n",
    "Note: Here we are considering non-overlapping sequences of three pieces."
   ]
  },
  {
   "cell_type": "markdown",
   "metadata": {},
   "source": [
    "Buses arrive at a specified stop at 15- minute intervals starting at 7 am, i.e. they arrive at 7, 7:15, 7:30, 7:45, and so on. \n",
    "\n",
    "If a passenger arrives at the stop at a time that is uniformly distributed between 7 and 7:30, find the probability that he waits\n",
    "\n",
    "a) less than 5 minutes for a bus\n",
    "\n",
    "b) at least 12 minutes for a bus"
   ]
  },
  {
   "cell_type": "markdown",
   "metadata": {},
   "source": [
    "## Probability Distributions 3"
   ]
  },
  {
   "cell_type": "markdown",
   "metadata": {},
   "source": [
    "Suppose you reside in a city with a large population. \n",
    "\n",
    "The weight of people living in your city follows a Gaussian distribution with a mean of 60 kgs with a standard deviation of 10 kgs.\n",
    "\n",
    "You weigh 65 kg. What is the probability that a randomly selected person in your city is heavier than you?"
   ]
  },
  {
   "cell_type": "markdown",
   "metadata": {},
   "source": [
    "It is known that the height of the students of ABC school follows a normal distribution with a mean of 170 cm and a standard deviation of 10 cm.\n",
    "\n",
    "What would be the height of a student, corresponding to a Z-Score of 1.5?"
   ]
  },
  {
   "cell_type": "markdown",
   "metadata": {},
   "source": [
    "A packaging plant fills bags with cement.\n",
    "\n",
    "The weight of the cement bags can be modelled by a normal distribution with a mean of 50kg and a standard deviation of 2 kg.\n",
    "\n",
    "Find the weight x that is exceeded by 99% of the bags."
   ]
  },
  {
   "cell_type": "markdown",
   "metadata": {},
   "source": [
    "Based on extensive data from an urban freeway near Toronto, Canada.\n",
    "\n",
    "It is observed that freeway speeds can best be represented by a normal distribution.\n",
    "\n",
    "The mean and standard deviation reported were 119 km/h and 13.1 km/h, respectively. Which speed is among the fastest 10% of all speeds?"
   ]
  },
  {
   "cell_type": "markdown",
   "metadata": {},
   "source": [
    "Suppose your city has a large population, where the average height is 65 inches with a standard deviation of 4 inches, and your height is 60 inches.\n",
    "\n",
    "What is the probability that a randomly selected person in your city is shorter than you?"
   ]
  },
  {
   "cell_type": "markdown",
   "metadata": {},
   "source": [
    "The mean weight of a sample of dogs is 25kg with a standard deviation of 3kg. \n",
    "\n",
    "What is the z-score for a dog who weighs 20kg?"
   ]
  },
  {
   "cell_type": "markdown",
   "metadata": {},
   "source": [
    "## Probability Distributions 4: Poisson & Binomial"
   ]
  },
  {
   "cell_type": "markdown",
   "metadata": {},
   "source": [
    "If electricity power failures occur according to a poisson distribution with an average of three failures every 20 weeks.\n",
    "\n",
    "Calculate the probability that there will not be more than one power failure during a week."
   ]
  },
  {
   "cell_type": "code",
   "execution_count": 52,
   "metadata": {},
   "outputs": [
    {
     "data": {
      "text/plain": [
       "'98.98%'"
      ]
     },
     "execution_count": 52,
     "metadata": {},
     "output_type": "execute_result"
    }
   ],
   "source": [
    "lam=3/20\n",
    "k_range=1\n",
    "f\"{round(100*(poisson.cdf(k=k_range, mu=lam)),2)}%\""
   ]
  },
  {
   "cell_type": "markdown",
   "metadata": {},
   "source": [
    "An observer counts 240 vehicles per hour (3600 seconds) at a specific vehicle arrival location on a highway.\n",
    "\n",
    "Assume that the arrivals follow the poisson distribution, what is the probability of one vehicle arriving over a 30-second time interval?"
   ]
  },
  {
   "cell_type": "code",
   "execution_count": 49,
   "metadata": {},
   "outputs": [
    {
     "data": {
      "text/plain": [
       "'27.1%'"
      ]
     },
     "execution_count": 49,
     "metadata": {},
     "output_type": "execute_result"
    }
   ],
   "source": [
    "lam=240/3600*30\n",
    "k_range=1\n",
    "f\"{round(100*(poisson.pmf(k=k_range, mu=lam)),1)}%\""
   ]
  },
  {
   "cell_type": "markdown",
   "metadata": {},
   "source": [
    "A packaging factory consists of 10 printing machines. Average number of failures occurring in one printing machine per year is 0.4\n",
    "\n",
    "(a) What is the total expected number of failures in the factory, in a year?\n",
    "\n",
    "(b) What is the probability that there are fewer than two failures in the factory in a year?"
   ]
  },
  {
   "cell_type": "code",
   "execution_count": 33,
   "metadata": {},
   "outputs": [
    {
     "data": {
      "text/plain": [
       "'9.16%'"
      ]
     },
     "execution_count": 33,
     "metadata": {},
     "output_type": "execute_result"
    }
   ],
   "source": [
    "n = 10\n",
    "p = 0.4\n",
    "lam = n * p\n",
    "k = 1\n",
    "f\"{round(poisson.cdf(k=k, mu=lam)*100,2)}%\"\n",
    "# binom.cdf(1, n, p)"
   ]
  },
  {
   "cell_type": "markdown",
   "metadata": {},
   "source": [
    "A call centre receives 20 calls per hour, on an average.\n",
    "\n",
    "a) What is the probability of receiving exactly 25 calls in a given hour?"
   ]
  },
  {
   "cell_type": "code",
   "execution_count": 34,
   "metadata": {},
   "outputs": [
    {
     "data": {
      "text/plain": [
       "'4.46%'"
      ]
     },
     "execution_count": 34,
     "metadata": {},
     "output_type": "execute_result"
    }
   ],
   "source": [
    "lam=20\n",
    "k_range=25\n",
    "f\"{round(100*(poisson.pmf(k=k_range, mu=lam)),2)}%\""
   ]
  },
  {
   "cell_type": "markdown",
   "metadata": {},
   "source": [
    "b) What is the probability of receiving more than 25 calls in a given hour?"
   ]
  },
  {
   "cell_type": "code",
   "execution_count": 36,
   "metadata": {},
   "outputs": [
    {
     "data": {
      "text/plain": [
       "'11.22%'"
      ]
     },
     "execution_count": 36,
     "metadata": {},
     "output_type": "execute_result"
    }
   ],
   "source": [
    "lam=20\n",
    "k_range=25\n",
    "f\"{round(100*(1-poisson.cdf(k=k_range, mu=lam)),2)}%\""
   ]
  },
  {
   "cell_type": "markdown",
   "metadata": {},
   "source": [
    "A computer server, on average, experiences 3 system crashes per day. \n",
    "\n",
    "What is the probability of having fewer than 2 system crashes in a day?"
   ]
  },
  {
   "cell_type": "code",
   "execution_count": 37,
   "metadata": {},
   "outputs": [
    {
     "data": {
      "text/plain": [
       "'19.91%'"
      ]
     },
     "execution_count": 37,
     "metadata": {},
     "output_type": "execute_result"
    }
   ],
   "source": [
    "k = 1\n",
    "lam = 3\n",
    "\n",
    "f\"{round(poisson.cdf(k=k, mu=lam)*100,2)}%\""
   ]
  },
  {
   "cell_type": "markdown",
   "metadata": {},
   "source": [
    "In the manufacture of glassware, bubbles can occur in the glass which reduces the status of the glassware to that of a ‘bad’ glassware product.\n",
    "\n",
    "If on an average, one in every 1000 items produced has a bubble, calculate the probability that exactly six items in a batch of three thousand are bad."
   ]
  },
  {
   "cell_type": "code",
   "execution_count": 7,
   "metadata": {},
   "outputs": [
    {
     "data": {
      "text/plain": [
       "'5.04%'"
      ]
     },
     "execution_count": 7,
     "metadata": {},
     "output_type": "execute_result"
    }
   ],
   "source": [
    "k = 6\n",
    "n = 3000\n",
    "lam = 3/3000\n",
    "\n",
    "f\"{round(binom.pmf(k=k, n=n, p=lam)*100,2)}%\""
   ]
  },
  {
   "cell_type": "markdown",
   "metadata": {},
   "source": [
    "You go to a party of 500 guests. \n",
    "\n",
    "What is the probability that exactly one other guest has the same birthday as you?\n",
    "\n",
    "Note: Exclude birthdays on February 29."
   ]
  },
  {
   "cell_type": "code",
   "execution_count": 29,
   "metadata": {},
   "outputs": [
    {
     "data": {
      "text/plain": [
       "'34.87%'"
      ]
     },
     "execution_count": 29,
     "metadata": {},
     "output_type": "execute_result"
    }
   ],
   "source": [
    "k = 1\n",
    "n = 499\n",
    "p = 1/365\n",
    "lam = n * p\n",
    "\n",
    "f\"{round(binom.pmf(k=k, n=n, p=p)*100,2)}%\""
   ]
  },
  {
   "cell_type": "markdown",
   "metadata": {},
   "source": [
    "## Probability Distributions 5: Exponential"
   ]
  },
  {
   "cell_type": "markdown",
   "metadata": {},
   "source": [
    "As a data analyst at Global Mariotech, one of your prime duties is to understand customer sentiments and provide a better experience to the customers.\n",
    "\n",
    "Based on a recent survey, it was found that there were 30% negative responses, and 70% positive.\n",
    "\n",
    "Assuming that we pick one response after another randomly, estimate the number of feedbacks to expect, before a negative feedback appears."
   ]
  },
  {
   "cell_type": "code",
   "execution_count": 2,
   "metadata": {},
   "outputs": [
    {
     "data": {
      "text/plain": [
       "3.3333333333333335"
      ]
     },
     "execution_count": 2,
     "metadata": {},
     "output_type": "execute_result"
    }
   ],
   "source": [
    "p = 30/100\n",
    "e = 1/p\n",
    "\n",
    "e"
   ]
  },
  {
   "cell_type": "markdown",
   "metadata": {},
   "source": [
    "You are hired as a data scientist for the company SellMart. Your first task is to analyze the durations of customer support call.\n",
    "\n",
    "On an average, a customer care executive takes about 5 minutes to solve the issue of any customer. It is known that the time taken follows an exponential distribution.\n",
    "\n",
    "Find the probability that an executive spends 4 to 5 minutes with any randomly selected customer."
   ]
  },
  {
   "cell_type": "code",
   "execution_count": 50,
   "metadata": {},
   "outputs": [
    {
     "data": {
      "text/plain": [
       "'8.14%'"
      ]
     },
     "execution_count": 50,
     "metadata": {},
     "output_type": "execute_result"
    }
   ],
   "source": [
    "p =expon.cdf(x=5, scale=5) - expon.cdf(x=4, scale=5)\n",
    "\n",
    "f\"{round(100*p, 2)}%\""
   ]
  },
  {
   "cell_type": "markdown",
   "metadata": {},
   "source": [
    "A new pair of running shoes of Brand X are known to last 6 months, on an average, assuming that they are used every day.\n",
    "\n",
    "It is known that the duration of their lifespan follows exponential distribution.\n",
    "\n",
    "If a pair has already lasted 5 months, find the probability that it will last a total of over 9 months."
   ]
  },
  {
   "cell_type": "code",
   "execution_count": 9,
   "metadata": {},
   "outputs": [
    {
     "data": {
      "text/plain": [
       "'51.34%'"
      ]
     },
     "execution_count": 9,
     "metadata": {},
     "output_type": "execute_result"
    }
   ],
   "source": [
    "# the shoes have already lasted 5 months; they only need to last another 4 months...\n",
    "\n",
    "p = 1 - expon.cdf(x=4, scale=6)\n",
    "\n",
    "f\"{round(100*p, 2)}%\""
   ]
  },
  {
   "cell_type": "markdown",
   "metadata": {},
   "source": [
    "The amount of money customers spend in one trip to the supermarket follows an exponential distribution with a mean amount of Rs 1000.\n",
    "\n",
    "If a customer has Rs 600 in the wallet, what is the probability that the customer will need more money?\n",
    "\n",
    "Note: Round the output up to 2 decimal places."
   ]
  },
  {
   "cell_type": "code",
   "execution_count": 11,
   "metadata": {},
   "outputs": [
    {
     "data": {
      "text/plain": [
       "'54.88%'"
      ]
     },
     "execution_count": 11,
     "metadata": {},
     "output_type": "execute_result"
    }
   ],
   "source": [
    "p = 1 - expon.cdf(x=600, scale=1000)\n",
    "\n",
    "f\"{round(100*p, 2)}%\""
   ]
  },
  {
   "cell_type": "markdown",
   "metadata": {},
   "source": [
    "A representative from the Indian Super League's Marketing Division randomly selects people on a random street in Mumbai until he finds a person who attended the last home football game.\n",
    "\n",
    "Let p, the probability that he succeeds in finding such a person, equal 0.20. \n",
    "\n",
    "And, let X denote the number of people he selects until he finds his first success.\n",
    "\n",
    "a) What is the probability that the he must select 4 people before he finds one who attended the last home football game?\n",
    "\n",
    "b) What is the probability that he must select more than 6 people before he finds one who attended the last home football game?"
   ]
  },
  {
   "cell_type": "code",
   "execution_count": 41,
   "metadata": {},
   "outputs": [
    {
     "data": {
      "text/plain": [
       "'10.24%'"
      ]
     },
     "execution_count": 41,
     "metadata": {},
     "output_type": "execute_result"
    }
   ],
   "source": [
    "p = 0.20  # probability of success\n",
    "k = 4     # number of trials until first success\n",
    "\n",
    "# Calculate probability\n",
    "# Note: scipy.stats.geom uses a different parameterization\n",
    "# It counts the number of failures before success, so we use k-1\n",
    "probability = geom.pmf(k, p)\n",
    "\n",
    "f\"{round(100*probability, 2)}%\""
   ]
  },
  {
   "cell_type": "code",
   "execution_count": 43,
   "metadata": {},
   "outputs": [
    {
     "data": {
      "text/plain": [
       "'26.21%'"
      ]
     },
     "execution_count": 43,
     "metadata": {},
     "output_type": "execute_result"
    }
   ],
   "source": [
    "probability = 1 - geom.cdf(6, p)\n",
    "\n",
    "f\"{round(100*probability, 2)}%\""
   ]
  },
  {
   "cell_type": "markdown",
   "metadata": {},
   "source": [
    "For a certain railway agency, the number of days people book their rail ticket in advance can be modeled by an exponential distribution, with the average amount of time to be 4 days. \n",
    "\n",
    "Based on this data, how many days in advance do 75% of all travelers book tickets?"
   ]
  },
  {
   "cell_type": "code",
   "execution_count": 71,
   "metadata": {},
   "outputs": [
    {
     "data": {
      "text/plain": [
       "'75.03%'"
      ]
     },
     "execution_count": 71,
     "metadata": {},
     "output_type": "execute_result"
    }
   ],
   "source": [
    "p = expon.cdf(x=5.55, scale=4)\n",
    "\n",
    "f\"{round(100*p, 2)}%\""
   ]
  },
  {
   "cell_type": "markdown",
   "metadata": {},
   "source": [
    "Suppose that the lifespan of an electronic gadget (in years) follows an exponential distribution. \n",
    "\n",
    "The average life span of an Electronic Gadget is known to be 2 years.\n",
    "\n",
    "Find the probability that :\n",
    "\n",
    "i) It will work for at least 6 years.\n",
    "\n",
    "ii) It will work for at most 6 years."
   ]
  },
  {
   "cell_type": "code",
   "execution_count": 78,
   "metadata": {},
   "outputs": [
    {
     "data": {
      "text/plain": [
       "'4.98%'"
      ]
     },
     "execution_count": 78,
     "metadata": {},
     "output_type": "execute_result"
    }
   ],
   "source": [
    "p = 1 - expon.cdf(x=6, scale=2)\n",
    "\n",
    "f\"{round(100*p, 2)}%\""
   ]
  },
  {
   "cell_type": "code",
   "execution_count": 74,
   "metadata": {},
   "outputs": [
    {
     "data": {
      "text/plain": [
       "'95.02%'"
      ]
     },
     "execution_count": 74,
     "metadata": {},
     "output_type": "execute_result"
    }
   ],
   "source": [
    "p = expon.cdf(x=6, scale=2)\n",
    "\n",
    "f\"{round(100*p, 2)}%\""
   ]
  },
  {
   "cell_type": "markdown",
   "metadata": {},
   "source": [
    "It is known that a company's website experiences technical issues from time to time. \n",
    "\n",
    "The probability of a user encountering an error message when trying to access the website is 0.10.\n",
    "\n",
    "Let X represent the number of attempts a user makes to access the website until encountering the first error message.\n",
    "\n",
    "What is the probability that a user makes more than 5 attempts before encountering an error message?"
   ]
  },
  {
   "cell_type": "code",
   "execution_count": 79,
   "metadata": {},
   "outputs": [
    {
     "data": {
      "text/plain": [
       "'59.05%'"
      ]
     },
     "execution_count": 79,
     "metadata": {},
     "output_type": "execute_result"
    }
   ],
   "source": [
    "p = 0.1\n",
    "x = 5\n",
    "\n",
    "probability = 1 - geom.cdf(x, p)\n",
    "\n",
    "f\"{round(100*probability, 2)}%\""
   ]
  }
 ],
 "metadata": {
  "kernelspec": {
   "display_name": "scala",
   "language": "python",
   "name": "python3"
  },
  "language_info": {
   "codemirror_mode": {
    "name": "ipython",
    "version": 3
   },
   "file_extension": ".py",
   "mimetype": "text/x-python",
   "name": "python",
   "nbconvert_exporter": "python",
   "pygments_lexer": "ipython3",
   "version": "3.12.7"
  }
 },
 "nbformat": 4,
 "nbformat_minor": 2
}
